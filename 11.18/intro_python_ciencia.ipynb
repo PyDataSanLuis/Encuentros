{
 "cells": [
  {
   "cell_type": "code",
   "execution_count": 1,
   "metadata": {
    "slideshow": {
     "slide_type": "skip"
    }
   },
   "outputs": [
    {
     "data": {
      "text/html": [
       "<style>\n",
       "\n",
       ".CodeMirror {\n",
       "    width: 100vw;\n",
       "}\n",
       "\n",
       ".container {\n",
       "    width: 99% !important;\n",
       "}\n",
       "\n",
       ".rendered_html {\n",
       "  font-size:0.8em;\n",
       "}\n",
       ".rendered_html table, .rendered_html th, .rendered_html tr, .rendered_html td {\n",
       "     font-size: 100%;\n",
       "}\n",
       "\n",
       "\n",
       "body {\n",
       "  font-family: Ubuntu;\n",
       "  background: #F0F0F0;\n",
       "  background-color: #F0F0F0;\n",
       "}\n",
       "\n",
       "\n",
       ".reveal h1,\n",
       ".reveal h2,\n",
       ".reveal h3,\n",
       ".reveal h4,\n",
       ".reveal h5,\n",
       ".reveal h6 {\n",
       "  margin: 0 0 20px 0;\n",
       "  color: #2a2eec;\n",
       "  font-family: Ubuntu;\n",
       "  line-height: 0.9em;\n",
       "  letter-spacing: 0.02em;\n",
       "  text-transform: none;\n",
       "  text-shadow: none;\n",
       "}\n",
       "\n",
       ".reveal blockquote {\n",
       "  display: block;\n",
       "  position: relative;\n",
       "  background: #fa7c17;\n",
       "  border-radius: 15px;\n",
       "  box-shadow: 0px 0px 2px rgba(0, 0, 0, 0.2); }\n",
       "\n",
       "</style>\n"
      ],
      "text/plain": [
       "<IPython.core.display.HTML object>"
      ]
     },
     "metadata": {},
     "output_type": "display_data"
    }
   ],
   "source": [
    "%%HTML\n",
    "<style>\n",
    "\n",
    ".CodeMirror {\n",
    "    width: 100vw;\n",
    "}\n",
    "\n",
    ".container {\n",
    "    width: 99% !important;\n",
    "}\n",
    "\n",
    ".rendered_html {\n",
    "  font-size:0.8em;\n",
    "}\n",
    ".rendered_html table, .rendered_html th, .rendered_html tr, .rendered_html td {\n",
    "     font-size: 100%;\n",
    "}\n",
    "\n",
    "\n",
    "body {\n",
    "  font-family: Ubuntu;\n",
    "  background: #F0F0F0;\n",
    "  background-color: #F0F0F0;\n",
    "}\n",
    "\n",
    "\n",
    ".reveal h1,\n",
    ".reveal h2,\n",
    ".reveal h3,\n",
    ".reveal h4,\n",
    ".reveal h5,\n",
    ".reveal h6 {\n",
    "  margin: 0 0 20px 0;\n",
    "  color: #2a2eec;\n",
    "  font-family: Ubuntu;\n",
    "  line-height: 0.9em;\n",
    "  letter-spacing: 0.02em;\n",
    "  text-transform: none;\n",
    "  text-shadow: none;\n",
    "}\n",
    "\n",
    ".reveal blockquote {\n",
    "  display: block;\n",
    "  position: relative;\n",
    "  background: #fa7c17;\n",
    "  border-radius: 15px;\n",
    "  box-shadow: 0px 0px 2px rgba(0, 0, 0, 0.2); }\n",
    "\n",
    "</style>"
   ]
  },
  {
   "cell_type": "markdown",
   "metadata": {
    "slideshow": {
     "slide_type": "slide"
    }
   },
   "source": [
    "##### <center><img src=\"imagenes/logo_inst.png\" width=\"700\">\n",
    "<br>\n",
    "<br>\n",
    "<br>\n",
    "<br>\n",
    "<h1 align=\"center\">Introducción a la computación científica con Python</h1> \n",
    "\n",
    "\n",
    "<br>\n",
    "<br>\n",
    "<br>\n",
    "<br>\n",
    "<br>\n",
    "<center>\n",
    "<img src=\"imagenes/logo_pydata.png\" width=\"200\">"
   ]
  },
  {
   "cell_type": "markdown",
   "metadata": {
    "slideshow": {
     "slide_type": "slide"
    }
   },
   "source": [
    "Nuestro objetivo es crear un foro para la comunidad local y nacional de usuarios y desarrolladores de herramientas de computación científica.\n",
    "\n",
    "Nos focalizamos en herramientas de código abierto, principalmente bajo Python, pero estamos abiertos a otros lenguajes como Julia y R\n",
    "\n",
    "Este foro tiene dos funciones principales:\n",
    "\n",
    "* Aprender de los demás, enseñar a los demás.\n",
    "* Conformar una red que genere conocimiento."
   ]
  },
  {
   "cell_type": "markdown",
   "metadata": {
    "slideshow": {
     "slide_type": "slide"
    }
   },
   "source": [
    "# Intro: Lenguajes de Programación en las Ciencias"
   ]
  },
  {
   "cell_type": "markdown",
   "metadata": {
    "slideshow": {
     "slide_type": "slide"
    }
   },
   "source": [
    "   #### >Porqué?\n",
    "\n",
    "\n",
    "**para cada**  $dato$  **del** $DataSet$ **repetir:**\n",
    "     \n",
    "     analizar(dato)\n",
    "    "
   ]
  },
  {
   "cell_type": "markdown",
   "metadata": {
    "slideshow": {
     "slide_type": "slide"
    }
   },
   "source": [
    "En cualquier disciplina es necesario analizar un conjunto de datos (_Data set_). Este análisis puede ser simple o complejo, dependiendo del objetivo del mismo. De acuerdo a esto, existe una **amplia gama** de herramientas que pueden ayudarnos a resolver el problema. \n",
    "Dentro de esta gama, existen herramientas que poseen limitaciones cuando el tipo de análisis se torna complejo ya que no todas las herramientas son lo suficientemente flexibles para adaptarse a nuestros objetivos. \n"
   ]
  },
  {
   "cell_type": "markdown",
   "metadata": {
    "slideshow": {
     "slide_type": "slide"
    }
   },
   "source": [
    "### Introducción: Algunos Lenguajes comunmente utilizados en ciencia:\n",
    "- **Fortran**\n",
    "- **Math LAB** \n",
    "- **C / C++** \n",
    "- **Julia**\n",
    "- **Java**\n",
    "- **Python**\n",
    "- **Entre muchos otros**"
   ]
  },
  {
   "cell_type": "markdown",
   "metadata": {
    "slideshow": {
     "slide_type": "slide"
    }
   },
   "source": [
    "   ### Swap ( _ , Python)  \n",
    "\n",
    "En ciertas situaciones se torna difícil migrar/incursionar en otros métodos/técnicas/herramientas/lenguajes, debido a aquello que se hereda del \"contexto\".\n",
    "- Disciplina (Comunidad)\n",
    "- Directores/Orientadores (ambiente académico)\n",
    "- Grupo de investigación"
   ]
  },
  {
   "cell_type": "markdown",
   "metadata": {
    "slideshow": {
     "slide_type": "slide"
    }
   },
   "source": [
    " #### Porque Python?\n",
    " \n",
    " <br>\n",
    " <br>\n",
    " <center>\n",
    " <img src=\"imagenes/Python.png\" width=\"150\">"
   ]
  },
  {
   "cell_type": "markdown",
   "metadata": {
    "slideshow": {
     "slide_type": "slide"
    }
   },
   "source": [
    "**Interoperabilidad con otros lenguajes:** \n",
    "\n",
    "Es un buen lenguaje para interrelacionar \"procesos\", ya sea de extracción de información, análisis, visualización, etc. De hecho, inicialmente fue pensado para eso. Al final veremos un ejemplo.\n"
   ]
  },
  {
   "cell_type": "markdown",
   "metadata": {
    "slideshow": {
     "slide_type": "slide"
    }
   },
   "source": [
    "**Filosofía _\"Baterías incluidas\":_**\n",
    "\n",
    "A diferencia de otros lenguajes, Python viene con una gran cantidad de librerías nativas incluidas que permiten resolver _casi_ todo...\n"
   ]
  },
  {
   "cell_type": "markdown",
   "metadata": {
    "slideshow": {
     "slide_type": "slide"
    }
   },
   "source": [
    "**_Ecosystema_ Python:**\n",
    "\n",
    "Existe un vasto ecosistema Python que cubre aquellas _gaps_ para los cuales no se han desarrollado librerías nativas. Además, casi con seguridad se encuentra disponible en GitHub y son mantenidos y actualizados frecuentemente. "
   ]
  },
  {
   "cell_type": "markdown",
   "metadata": {
    "slideshow": {
     "slide_type": "slide"
    }
   },
   "source": [
    "**Simplicidad + Naturaleza dinámica:** \n",
    "\n",
    "Tiene la característica de acortar curvas de aprendizajes con respecto a otros lenguajes.\n",
    "\"... un estudiante puede puede empezar a aprender Python y rápidamente poder escribir ciertos _scripts_ al final de la semana y hasta llegar a escribir aplicaciones completas al final del semestre..\" \n",
    "_Jake Vanderplas_ (Astrónomo)\n",
    "Autor del libro \"The Python Data Science Handbook\" (entre otros)"
   ]
  },
  {
   "cell_type": "markdown",
   "metadata": {
    "slideshow": {
     "slide_type": "slide"
    }
   },
   "source": [
    "<center>\n",
    "<img src=\"imagenes/python-2018.png\" width=700>"
   ]
  },
  {
   "cell_type": "markdown",
   "metadata": {
    "slideshow": {
     "slide_type": "slide"
    }
   },
   "source": [
    "### Del Software Legado _y otras hierbas_"
   ]
  },
  {
   "cell_type": "markdown",
   "metadata": {
    "slideshow": {
     "slide_type": "slide"
    }
   },
   "source": [
    "# Búsqueda de Patrones en Texto"
   ]
  },
  {
   "cell_type": "markdown",
   "metadata": {
    "slideshow": {
     "slide_type": "slide"
    }
   },
   "source": [
    "## o ... ¿Cómo encontrar una aguja en un pajar?\n",
    "\n",
    "\n",
    "<center>\n",
    "<img src=\"imagenes/needle-in-haystack.jpg\" width=700>"
   ]
  },
  {
   "cell_type": "markdown",
   "metadata": {
    "slideshow": {
     "slide_type": "slide"
    }
   },
   "source": [
    "### Buscaremos números de teléfono"
   ]
  },
  {
   "cell_type": "markdown",
   "metadata": {
    "slideshow": {
     "slide_type": "slide"
    }
   },
   "source": [
    "![Formato número de teléfono en USA](imagenes/formato_numero.png \"Formato número de teléfono\")"
   ]
  },
  {
   "cell_type": "code",
   "execution_count": 2,
   "metadata": {
    "slideshow": {
     "slide_type": "slide"
    }
   },
   "outputs": [],
   "source": [
    "def esNumeroTelefono(texto):\n",
    "    # Controlo la longitud del texto.\n",
    "    if len(texto) != 12:\n",
    "        return False\n",
    "    # Controlo que los primeros tres símbolos sean dígitos.\n",
    "    for i in range(0, 3):\n",
    "        if not texto[i].isdecimal():\n",
    "            return False\n",
    "    # Controlo que el cuarto símbolo sea un \"-\".\n",
    "    if texto[3] != '-':\n",
    "        return False\n",
    "    # Controlo que los siguientes tres símbolos sean dígitos.\n",
    "    for i in range(4, 7):\n",
    "        if not texto[i].isdecimal():\n",
    "            return False\n",
    "    # Controlo que el siguiente símbolo sea un \"-\".\n",
    "    if texto[7] != '-':\n",
    "        return False\n",
    "    # Controlo que los siguientes cuatro símbolos sean dígitos.\n",
    "    for i in range(8, 12):\n",
    "        if not texto[i].isdecimal():\n",
    "            return False\n",
    "    # Si pasa todos esos controles significa que se trata de un número de teléfono válido.\n",
    "    return True"
   ]
  },
  {
   "cell_type": "code",
   "execution_count": 3,
   "metadata": {
    "slideshow": {
     "slide_type": "slide"
    }
   },
   "outputs": [],
   "source": [
    "lista_elementos = ['609-424-3836',\n",
    "                   '111-222-3333',\n",
    "                   'telefono',\n",
    "                   'valido 609-424-3836',\n",
    "                   '(609) 424-3836',\n",
    "                   '111 222 3333',\n",
    "                   '1112223333']"
   ]
  },
  {
   "cell_type": "code",
   "execution_count": 4,
   "metadata": {
    "slideshow": {
     "slide_type": "slide"
    }
   },
   "outputs": [
    {
     "name": "stdout",
     "output_type": "stream",
     "text": [
      "'609-424-3836'---------> teléfono válido\n",
      "'111-222-3333'---------> teléfono válido\n",
      "'telefono'-------------> teléfono NO válido\n",
      "'valido 609-424-3836'--> teléfono NO válido\n",
      "'(609) 424-3836'-------> teléfono NO válido\n",
      "'111 222 3333'---------> teléfono NO válido\n",
      "'1112223333'-----------> teléfono NO válido\n"
     ]
    }
   ],
   "source": [
    "for elemento in lista_elementos:\n",
    "    if esNumeroTelefono(elemento):\n",
    "        print(f'{repr(elemento):-<22}-> teléfono válido')\n",
    "    else:\n",
    "        print(f'{repr(elemento):-<22}-> teléfono NO válido')"
   ]
  },
  {
   "cell_type": "markdown",
   "metadata": {
    "slideshow": {
     "slide_type": "slide"
    }
   },
   "source": [
    "### Expresiones regulares"
   ]
  },
  {
   "cell_type": "markdown",
   "metadata": {
    "slideshow": {
     "slide_type": "slide"
    }
   },
   "source": [
    "> Una __expresión regular__, __regex__ o __regexp__ es una secuencia de caracteres que definen un patrón de búsqueda."
   ]
  },
  {
   "cell_type": "markdown",
   "metadata": {
    "slideshow": {
     "slide_type": "slide"
    }
   },
   "source": [
    "Las expresiones regulares nos permiten:\n",
    "- alternar entre patrones;\n",
    "- cuantificar patrones;\n",
    "- agrupar patrones."
   ]
  },
  {
   "cell_type": "code",
   "execution_count": 5,
   "metadata": {
    "slideshow": {
     "slide_type": "slide"
    }
   },
   "outputs": [
    {
     "name": "stdout",
     "output_type": "stream",
     "text": [
      "'609-424-3836'---------> contiene teléfono válido\n",
      "'111-222-3333'---------> contiene teléfono válido\n",
      "'telefono'-------------> contiene teléfono NO válido\n",
      "'valido 609-424-3836'--> contiene teléfono válido\n",
      "'(609) 424-3836'-------> contiene teléfono válido\n",
      "'111 222 3333'---------> contiene teléfono válido\n",
      "'1112223333'-----------> contiene teléfono válido\n"
     ]
    }
   ],
   "source": [
    "import re\n",
    "\n",
    "numeroTelefonoRegex = re.compile(r'''(\n",
    "    (\\d{3}|\\(\\d{3}\\))?  # codigo de area\n",
    "    (\\s|-)?             # separador\n",
    "    (\\d{3})             # primeros tres dígitos\n",
    "    (\\s|-)?             # separador\n",
    "    (\\d{4})             # últimos cuatro digitos\n",
    "    )''', re.VERBOSE)\n",
    "\n",
    "for elemento in lista_elementos:\n",
    "    encontrado = numeroTelefonoRegex.search(elemento)\n",
    "    if encontrado:\n",
    "        print(f'{repr(elemento):-<22}-> contiene teléfono válido')\n",
    "    else:\n",
    "        print(f'{repr(elemento):-<22}-> contiene teléfono NO válido')"
   ]
  },
  {
   "cell_type": "markdown",
   "metadata": {
    "slideshow": {
     "slide_type": "slide"
    }
   },
   "source": [
    "### Ahora buscaremos teléfonos en posts de un foro de ventas"
   ]
  },
  {
   "cell_type": "code",
   "execution_count": 6,
   "metadata": {
    "slideshow": {
     "slide_type": "slide"
    }
   },
   "outputs": [
    {
     "name": "stdout",
     "output_type": "stream",
     "text": [
      "Cantidad de posts: 975\n",
      "Promedio de palabras por post: 147.84\n"
     ]
    }
   ],
   "source": [
    "from sklearn.datasets import fetch_20newsgroups\n",
    "import numpy as np\n",
    "\n",
    "forsale_data = fetch_20newsgroups(subset='all', categories=['misc.forsale']).data\n",
    "\n",
    "print(f\"Cantidad de posts: {len(forsale_data)}\")\n",
    "promedio_caracteres = np.round(np.sum([len(post.split()) for post in forsale_data]) / len(forsale_data), decimals=2)\n",
    "print(f\"Promedio de palabras por post: {promedio_caracteres}\")"
   ]
  },
  {
   "cell_type": "code",
   "execution_count": 7,
   "metadata": {
    "scrolled": true,
    "slideshow": {
     "slide_type": "slide"
    }
   },
   "outputs": [
    {
     "name": "stdout",
     "output_type": "stream",
     "text": [
      "(post: 3, linea: 31)-----> Mark Wilson, Online Computer Systems.  1-800-922-9204 or 1-301-601-2215\n",
      "(post: 3, linea: 38)-----> Mark Wilson, Online Computer Systems.  1-800-922-9204 or 1-301-601-2215\n",
      "(post: 7, linea: 15)-----> 412-268-7505\n",
      "(post: 9, linea: 34)-----> (408) 378-8400 \n",
      "(post: 13, linea: 37)----> Phone at 1 (419) 372-5954\n",
      "(post: 19, linea: 9)-----> \tInterested parties can call John at (408) 522-1904 for more\n",
      "(post: 19, linea: 18)---->  __\\____                   |=================/       (408)746-7102\n",
      "(post: 20, linea: 102)---> Voice  708-752-8847 - Internet 192.138.89.15 -- mkbaird%david@uunet.uu.net                    \n",
      "(post: 20, linea: 106)---> Voice  708-752-8847 - Internet 192.138.89.15 -- mkbaird%david@uunet.uu.net                    \n",
      "(post: 21, linea: 6)-----> In article <AHALL.93Apr5132130@slothrop.fmrco.com> ahall@fmrco.com (Andrew Hall) writes:\n",
      "(post: 25, linea: 39)----> 409-696-6043\n",
      "(post: 27, linea: 52)----> 317-495-5978\n",
      "(post: 34, linea: 15)----> Call 421-8466\n",
      "(post: 37, linea: 17)----> 708-979-6164\n",
      "(post: 39, linea: 22)----> - Call 421-8466\n",
      "(post: 44, linea: 109)---> (\t       (   Tel: 413-538 3015\t       South Hadley, MA 01075  )\n",
      "(post: 45, linea: 20)---->   Please call Leonid @ (415)858-1306.\n",
      "(post: 51, linea: 16)----> Dept. of Systems and Computer Engineering |    phone:  (613) 788-5740 (Dept.)\n",
      "(post: 51, linea: 17)----> Carleton University                       |            (613) 241-6952 (Home)\n",
      "(post: 51, linea: 18)----> Ottawa, ON, CANADA  K1S 5B6               |      fax:  (613) 788-5727 (Dept.)\n",
      "(post: 51, linea: 21)----> Dept. of Systems and Computer Engineering |    phone:  (613) 788-5740 (Dept.)\n",
      "(post: 51, linea: 22)----> Carleton University                       |            (613) 241-6952 (Home)\n",
      "(post: 51, linea: 23)----> Ottawa, ON, CANADA  K1S 5B6               |      fax:  (613) 788-5727 (Dept.)\n",
      "(post: 53, linea: 73)----> phone: (508) 486-8886                                     Littleton, MA 01460\n",
      "(post: 54, linea: 3)-----> Organization: NETCOM On-line Communication Services (408 241-9760 guest)\n",
      "(post: 54, linea: 14)----> (510) 283-6264\t\t- kun-mkhyen klong-chen-pa\n",
      "(post: 60, linea: 26)----> To make offers, either email beers@cs.buffalo.edu or call (716) 741-9272, and\n",
      "(post: 63, linea: 20)----> 609 466-9490\n",
      "(post: 67, linea: 17)----> radley@gibbs.oit.unc.edu or call me at 919-968-7779.\n",
      "(post: 69, linea: 11)----> 803-654-8817\n",
      "(post: 71, linea: 18)---->   | Uucp:   ..!storcon!paulm    | (714)852-8511, Fax (714)557-5064 |\n",
      "(post: 79, linea: 17)----> Email or call 213-341-4425\n",
      "(post: 80, linea: 18)----> \tPlease reply with email or call (217)337-5710 and leave message.\n",
      "(post: 81, linea: 9)-----> can help us. Products include both color and black/white TVs from 11\" to 24\". If interested, please e-mail or fax to Mr Z Ho at 713-926-7953 (USA) for more information or inquiries. good commission.\n",
      "(post: 82, linea: 13)----> $430   call Scott at (503) 757-3483 or\n",
      "(post: 87, linea: 34)----> \t(608) 238-2463\n",
      "(post: 91, linea: 20)----> 601-234-0969\n",
      "(post: 91, linea: 23)----> 714-257-1138\n",
      "(post: 96, linea: 32)----> (919) 834-3290 \n",
      "(post: 97, linea: 21)---->    Adisak Pochanayon - 608-238-2463\n",
      "(post: 101, linea: 26)--->   Packet:  VE3PZR @ VE3GYQ               UWO Phone: (519) 661-3714\n",
      "(post: 102, linea: 31)---> \t\t\t                  Telephone: (216) 493-6303    \n",
      "(post: 103, linea: 16)---> Call Ariel (510) 881-8627 and leave a message if I'm not there.\n",
      "(post: 104, linea: 13)---> shrinkwrapped. Plus tax if in California. E-mail rebop or call 916 924-9911\n",
      "(post: 104, linea: 21)--->            - Bob Ulius |  rebop@well.sf.ca.us   |  (916) 338-4766  -\n",
      "(post: 105, linea: 27)---> (919)833-8431\n",
      "(post: 106, linea: 2)----> Article-I.D.: aol.9304060119.tn29392\n",
      "(post: 107, linea: 37)---> *                               Phone:  Work (508)493-0437 (Voicemail)*\n",
      "(post: 107, linea: 38)---> *                                       Home (508)342-2362            *\n",
      "(post: 114, linea: 32)---> \tPhone: (703) 848-2050\tPager: (800)sky-page pin# 45300\n",
      "(post: 115, linea: 17)--->   |onathan   Phone: +44 524 65201 x3793 Address:Department of Computing\n",
      "(post: 115, linea: 18)---> '-'________    Fax: +44 524 381707              Lancaster University\n",
      "(post: 119, linea: 18)--->          Craig landgraf  Buckwheats Pleasure Dome 713-855-1701\n",
      "(post: 119, linea: 23)--->                         BBS Number (713) 855-1701\n",
      "(post: 128, linea: 2)----> X-Xxmessage-Id: <A7FD05D0F6016515@dialup-slip-1-21.gw.umn.edu>\n",
      "(post: 136, linea: 30)---> Peterson at (303) 494-7951 anytime.\n",
      "(post: 137, linea: 21)---> rajaram@sun.com         (W) 415/336-5194        (H) 510/796-9932\n",
      "(post: 138, linea: 15)---> If interested please call 201-666-9207\n",
      "(post: 139, linea: 14)---> 803-654-8817\n",
      "(post: 140, linea: 15)---> Greg Holdren  (916)785-7481\n",
      "(post: 141, linea: 17)---> (415) 497-0663\n",
      "(post: 145, linea: 20)--->  radley@gibbs.oit.unc.edu or call me, Keith, at 919-968-7779.\n",
      "(post: 146, linea: 25)---> Roanoke, VA 24022-1966                       | FAX:   703-342-5961\n",
      "(post: 146, linea: 26)---> PHONE: 703-342-6700 or 800-423-1183 x291     |\n",
      "(post: 153, linea: 3)----> Organization: NETCOM On-line Communication Services (408 241-9760 guest)\n",
      "(post: 155, linea: 23)---> (415)-476-8693\n",
      "(post: 157, linea: 14)---> (415) 497-3719\n",
      "(post: 158, linea: 8)----> e-mail or call Ron at (908)805-2248 (work) or (908)454-9337 (home)\n",
      "(post: 160, linea: 29)--->           phone (after 5 on weekdays): 510-704-9237\n",
      "(post: 166, linea: 37)---> 215-885-7446 (Philadelphia) and I'll save the package for you.\n",
      "(post: 171, linea: 23)---> contact Peg Moore @ (508) 771-0320 or Ron Nordstrom @ (508) 394-9652\n",
      "(post: 172, linea: 32)---> phone  : (908) 582-3861 (Work)\n",
      "(post: 172, linea: 33)---> \t (201) 635-3705 (Home)\n",
      "(post: 174, linea: 12)---> -- AT&TNet: +1 401 273 4669               /   are you won't either...\n",
      "(post: 174, linea: 13)---> -- Telebit: +1 401 455 0347              /\n",
      "(post: 178, linea: 33)--->                608-255-6379\n",
      "(post: 178, linea: 40)---> !                  (608) 255-6379\t\t\t!\n",
      "(post: 187, linea: 26)---> (210)545-4741, ask for Ralf\n",
      "(post: 188, linea: 12)---> 900-446-6995 Extension 107\n",
      "(post: 190, linea: 21)---> >    (602)925-6123 in the day time\n",
      "(post: 190, linea: 22)---> >    (602)842-2145 in the evenings\n",
      "(post: 198, linea: 13)---> $1800.  Contact rclar@ctp.com or call (617) 374-8217.\n",
      "(post: 199, linea: 25)---> \t\t(415)-617-3522 [W]\n",
      "(post: 199, linea: 26)---> \t\t(415)-324-9553 [H]\n",
      "(post: 199, linea: 34)--->   .][__n_n_|DD[  ====_____  |Digital Equipment Corp.     | | (415) 617-3522  |\n",
      "(post: 203, linea: 31)--->   |onathan   Phone: +44 524 65201 x3793 Address:Department of Computing\n",
      "(post: 203, linea: 32)---> '-'________    Fax: +44 524 381707              Lancaster University\n",
      "(post: 204, linea: 16)---> Call 1 800 940-7874\n",
      "(post: 204, linea: 17)---> or 216-941-7400\n",
      "(post: 205, linea: 40)---> (414) 654-4473\n",
      "(post: 211, linea: 8)----> >>In article <colinm.735327894@cunews>\n",
      "(post: 214, linea: 26)--->    (415)-347-6813\n",
      "(post: 214, linea: 32)---> robm@eecs.berkeley.edu\t  Voice: 510/642-8633  FAX: 510/643-7846\n",
      "(post: 216, linea: 32)---> To discuss the purchase of any of these items, call John at (408) 268-1769\n",
      "(post: 216, linea: 37)---> (408) 268-1769\n",
      "(post: 221, linea: 68)--->        Dave Medin\t\t\tPhone:\t(205) 730-3169 (w)\n",
      "(post: 221, linea: 69)--->     SSD--Networking\t\t\t\t(205) 837-1174 (h)\n",
      "(post: 223, linea: 38)---> (317) 495-4426 and ask for Jason.  Thanks in advance!!!\n",
      "(post: 225, linea: 2)----> Organization: NETCOM On-line Communication Services (408 241-9760 guest)\n",
      "(post: 225, linea: 17)---> call (408) 425-8203 ask for Bob.\n",
      "(post: 229, linea: 20)---> :GS::: call T.A.P. a Futurenet BBS 614-297-7031 16.8k DS HST 425 MEGS ::GS:\n",
      "(post: 230, linea: 16)---> (415) 497-0663\n",
      "(post: 232, linea: 15)---> voice: 508-999-6257\n",
      "(post: 233, linea: 73)---> either leave me email or call Kirk Peterson at (303) 494-7951,\n",
      "(post: 234, linea: 14)---> 412-268-7505\n",
      "(post: 238, linea: 18)---> Asking $875 for system. Call (214) 579-5820 \n",
      "(post: 241, linea: 11)---> If you are interested in any of the following, ask for Rob at (510) 521-3147.\n",
      "(post: 242, linea: 25)---> or call me at (317)743-1394 \n",
      "(post: 246, linea: 21)--->   ***   Call Mike: 908-949-3804 (Day)    ***\n",
      "(post: 246, linea: 22)--->   ***              908-469-3250 (Eve)    ***\n",
      "(post: 252, linea: 15)---> call tom @ (201) 653-0638 h\n",
      "(post: 252, linea: 16)--->            (201) 795-5636 w\n",
      "(post: 253, linea: 25)--->   |onathan   Phone: +44 524 65201 x3793 Address:Department of Computing\n",
      "(post: 253, linea: 26)---> '-'________    Fax: +44 524 381707              Lancaster University\n",
      "(post: 254, linea: 2)----> Article-I.D.: rosie.5APR199322063854\n",
      "(post: 254, linea: 9)----> In article <hatton.733706165@cgl.ucsf.edu>, hatton@socrates.ucsf.edu (Tom Hatton) writes...\n",
      "(post: 257, linea: 29)---> \t======  S. Alavi    [ssa@unity.ncsu.edu]  (919)467-7909 (H)  ========\n",
      "(post: 257, linea: 30)---> \t\t\t\t\t\t  (919)515-8063 (W)\n",
      "(post: 259, linea: 48)---> Mike at Home: (508) 881-6312\n",
      "(post: 259, linea: 49)--->         Work: (508) 490-6963, or\n",
      "(post: 264, linea: 13)---> Please reply by e-mail or PHONE: (304)292-5960\n",
      "(post: 265, linea: 21)---> (513) 257-6084\n",
      "(post: 266, linea: 30)---> If interested call: Lourdes Soto (617) 277-9816  6-10pm\n",
      "(post: 266, linea: 31)--->                                  (617) 492-2777 x3919  9am -5pm\n",
      "(post: 267, linea: 6)----> Contact soon kohli@ecs.umass.edu or (413_549-4738.\n",
      "(post: 269, linea: 25)--->  (405)447-9339\n",
      "(post: 275, linea: 4)----> Organization: Information Gateway BBS -- +1 404-928-7873\n",
      "(post: 276, linea: 27)---> | Bensalem, PA 19020     |    Ma Bell: 215/757-3126\n",
      "(post: 277, linea: 29)---> hm 408-263-3709\n",
      "(post: 277, linea: 30)---> wk 408-276-3618\n",
      "(post: 278, linea: 22)--->           (214) 393-1216\n",
      "(post: 280, linea: 4)----> Organization: Cincinnati Computer Connection - Cincinnati, OH - 513-752-1055\n",
      "(post: 285, linea: 15)---> \t\tIf Interested, please call 455 6948 or\n",
      "(post: 291, linea: 18)---> (415) 497-0663\n",
      "(post: 292, linea: 7)----> I am in the market for an inexpensive accelerator for 500-2000 series.\n",
      "(post: 292, linea: 10)---> and you propably can reach me at my home: +358-0-802-6747 too.\n",
      "(post: 294, linea: 66)---> Alan L. Peterman                                 (503)-684-1984 hm & work\n",
      "(post: 297, linea: 30)---> 201 A OLD BOTANY BLDG.                PHONE:    814-865-5425 (OFFICE)\n",
      "(post: 301, linea: 37)--->                          (317) 495-4471\n",
      "(post: 304, linea: 16)---> * Steve.Shapiro@f440.n101.z1.fidonet.org  BBS: (508) 664-6354 N81  *\n",
      "(post: 305, linea: 27)---> 413-549-7373 H\n",
      "(post: 305, linea: 28)---> 413-545-2014 O\n",
      "(post: 308, linea: 24)---> Call Denise (708) 491-7603 (w)\n",
      "(post: 308, linea: 25)--->             (708) 869-8307 (H)\n",
      "(post: 313, linea: 10)---> $150 or best offer.  Please call (415) 824 6209;  ***DO NOT*** respond\n",
      "(post: 316, linea: 30)---> Paul Amaranth  Manager User Services - office: (313) 370 4541 (also voicemail)\n",
      "(post: 318, linea: 29)--->      Call the Camaro Linux Pub-access site: 1-416-238-6550 USRobotics HST\n",
      "(post: 319, linea: 3)----> Organization: Pics OnLine! MultiUser System - 609-753-2540\n",
      "(post: 319, linea: 17)---> | Pics OnLine MultiUser System   (609)753-2540 HST    609-753-1549 (V32) |\n",
      "(post: 320, linea: 26)---> \tCall Brian Dickman at (717)872-1719 or send e-mail to dickman_con@huey.\n",
      "(post: 321, linea: 101)--> Voice  708-752-8847 - Internet 192.138.89.15 -- mkbaird%david@uunet.uu.net                    \n",
      "(post: 321, linea: 105)--> Voice  708-752-8847 - Internet 192.138.89.15 -- mkbaird%david@uunet.uu.net                    \n",
      "(post: 327, linea: 29)--->           phone (after 5 on weekdays): 510-704-9237\n",
      "(post: 330, linea: 31)---> Rich Fozzard\t497-6011 or 444-3168\n",
      "(post: 330, linea: 38)---> fozzard@fsl.noaa.gov                          (303)497-6011 or 444-3168\n",
      "(post: 331, linea: 35)---> or call at (415) 497-0663. Will send the certificate of delivery and\n",
      "(post: 333, linea: 14)--->        Dave Medin\t\t\tPhone:\t(205) 730-3169 (w)\n",
      "(post: 333, linea: 15)--->     SSD--Networking\t\t\t\t(205) 837-1174 (h)\n",
      "(post: 336, linea: 23)---> (415) 857-8409\n",
      "(post: 338, linea: 8)---->         Phone           (703)552-4381\n",
      "(post: 339, linea: 22)--->     or  phone/leave message 414-332-7657\n",
      "(post: 341, linea: 13)---> give me a call at 714-539-4251.. DANG\n",
      "(post: 344, linea: 4)----> Organization: Cincinnati Computer Connection - Cincinnati, OH - 513-752-1055\n",
      "(post: 344, linea: 14)--->         Call me voice at (513) 831-0162 -- let's talk about it.\n",
      "(post: 345, linea: 16)---> (614)-459-4256\n",
      "(post: 349, linea: 26)---> \t======  S. Alavi    [ssa@unity.ncsu.edu]  (919)467-7909 (H)  ========\n",
      "(post: 349, linea: 27)---> \t\t\t\t\t\t  (919)515-8063 (W)\n",
      "(post: 352, linea: 24)---> phone:  416-855-6205 (24hrs, 7days a week)\n",
      "(post: 352, linea: 28)--->    RoseMail 2.10 : RoseNet<=>Usenet Gateway : Rose Media 416-733-2285\n",
      "(post: 355, linea: 15)---> Research Triangle Park, NC 27709    (919) 248-6369\n",
      "(post: 355, linea: 19)---> Research Triangle Park, NC 27709    (919) 248-6369\n",
      "(post: 358, linea: 9)----> or best offer. Thanks!! Respond to hw26 or call 268-4841.               \n",
      "(post: 361, linea: 71)---> CA> or call (713) 520-5720\n",
      "(post: 362, linea: 0)----> From: abou@dam.cee.clarkson.edu (Abou Bakr,Damon 317,268-6611,265-8419)\n",
      "(post: 367, linea: 20)---> send me some e-mail or call me 303-224-4317 (home)  or 303-491-7585 (school)\n",
      "(post: 368, linea: 28)---> (408) 562-6003\n",
      "(post: 369, linea: 7)----> Posting for a friend: please call Steve, 415 252-1618, if interested.\n",
      "(post: 369, linea: 22)---> 415 252-1618\n",
      "(post: 371, linea: 89)---> \tPlease contact Jian at 1(317)495-3732 or \n",
      "(post: 373, linea: 11)---> 513-255-5165                        Dayton, Ohio USA\n",
      "(post: 374, linea: 19)---> Bob or Tracy at 510-540-8795\n",
      "(post: 379, linea: 20)---> (412) 882-6425\n",
      "(post: 381, linea: 32)---> (*)   Senior Software Analyst          Phone   : (205) 730-8160            (*)\n",
      "(post: 381, linea: 33)---> (*)   Aeronautical Systems, MSD\t       FAX     : (205) 730-8178            (*)\n",
      "(post: 384, linea: 8)---->         Phone           (703)552-4381\n",
      "(post: 388, linea: 11)---> send email rosen@ringer.cs.utsa.edu, or call at 210-691-5696.\n",
      "(post: 389, linea: 3)----> Organization: NETCOM On-line Communication Services (408 241-9760 guest)\n",
      "(post: 389, linea: 12)--->            Ellen T. (408) 978-7716 (San Jose, CA.)\"\n",
      "(post: 391, linea: 24)---> Send replies to ihlpl!rsbrd or call (708) 979-8816.\n",
      "(post: 392, linea: 18)---> #403-478-4010  HST and v.32bis  Try it, you'll like it!\n",
      "(post: 393, linea: 12)---> 312/942-1977 (H)\n",
      "(post: 394, linea: 27)---> Mark Wilson, Online Computer Systems.  1-800-922-9204 or 1-301-601-2215\n",
      "(post: 394, linea: 34)---> Mark Wilson, Online Computer Systems.  1-800-922-9204 or 1-301-601-2215\n",
      "(post: 396, linea: 37)--->                      908-834-1254 (daytime)\n",
      "(post: 396, linea: 38)--->                      908-388-5880 (evenings and weekends)\n",
      "(post: 397, linea: 6)----> In article <br.pct.68.735613758@RLG.Stanford.EDU> br.pct@RLG.Stanford.EDU (Peter C. Tam) writes:\n",
      "(post: 401, linea: 29)---> Samuel Pedroza                                                   (512) 823-7533\n",
      "(post: 403, linea: 55)--->                   (716) 359-2350  (Just south of Rochester, NY)\n",
      "(post: 410, linea: 10)---> call (408) 264-4444 ask for frank and lets negotiate trades considered\n",
      "(post: 411, linea: 34)---> Contact Kam Poon at 718-332-2993 after 6 PM EST.\n",
      "(post: 412, linea: 26)---> phone:  215-645-5620\n",
      "(post: 413, linea: 15)---> Ask for Esther: 415/571-6062 eve\n",
      "(post: 413, linea: 16)---> \t\t408/736-0490 day\n",
      "(post: 416, linea: 13)---> School: (212) 853-6883      \"You ate the only thing I ever loved!\"\n",
      "(post: 416, linea: 14)---> Home:   (401) 421-7479                         -Seymour, LSoH\n",
      "(post: 422, linea: 10)---> Please contact Padma & Srini at (908) 855-8865 for details.\n",
      "(post: 423, linea: 17)--->   )  1005 Hertford Street  _____   Work:  (703) 318-4548               )\n",
      "(post: 423, linea: 18)--->  /   Herndon, VA  22070   (     )  Home:  (703) 709-8022              /\n",
      "(post: 426, linea: 12)---> 803-654-8817\n",
      "(post: 427, linea: 19)---> at (206)485-5200 in Bothell or 1-800-645-8885 during regular business hours.\n",
      "(post: 427, linea: 26)---> (206)828-9094 (home)\n",
      "(post: 427, linea: 27)---> (206)822-5200 x360 (work)\n",
      "(post: 427, linea: 31)---> 11255 Kirkland Way      \t(206) 822-5200 ext. 360\n",
      "(post: 430, linea: 36)---> Please send your best bid to io00844@maine or call (207)-581-7589.\n",
      "(post: 430, linea: 41)---> (207)-581-7589      | Iguana Owner.      \"NCC-42 U.S.S. Heart Of Gold\"\n",
      "(post: 433, linea: 15)---> Radian Corp. (512)454-4797      Box 201088      Austin, TX 78720-1088\n",
      "(post: 436, linea: 21)---> at 416-233-6038.\n",
      "(post: 436, linea: 27)---> 416-629-7000/629-7044\n",
      "(post: 441, linea: 28)---> 513-255-5165                        Dayton, Ohio USA\n",
      "(post: 442, linea: 4)----> Organization: TSoft BBS and Public Access Unix, +1 415 969 8238\n",
      "(post: 445, linea: 20)---> (801) 222-0834 (home)\n",
      "(post: 445, linea: 21)---> (801) 378-2722 (work)\n",
      "(post: 446, linea: 25)---> Contact David 617-227-7326\n",
      "(post: 446, linea: 26)--->               617-956-6905\n",
      "(post: 449, linea: 17)---> call Cheryl: 908-805-2011 (day)\n",
      "(post: 449, linea: 18)--->              908-469-3250 (eve)\n",
      "(post: 450, linea: 27)---> \t\tcall or leave message on answering machine at 477-9429 \n",
      "(post: 453, linea: 11)---> 803-654-8817\n",
      "(post: 463, linea: 2)----> Organization: HoloNet National Internet Access System: 510-704-1058/modem\n",
      "(post: 464, linea: 133)--> (313) 677-3086, please call after 6:00pm, or send email (best way to reach me)\n",
      "(post: 466, linea: 9)----> account, if you have any questions please call Dan at (814)238-1804.\n",
      "(post: 470, linea: 19)---> 267 Cox St.\t\t\t\tOffice: (508) 568-1618\n",
      "(post: 470, linea: 20)---> Hudson, Ma.\t\t\t\tFAX: (508) 562-1133\n",
      "(post: 473, linea: 35)---> 409-696-6043\n",
      "(post: 474, linea: 112)--> Jim Sims sr. N4JDP  (614) 439-2177 before 9 PM Eastern\n",
      "(post: 478, linea: 19)---> call Ron at 215-222-6933\tor email: perrault@a.chem.upenn.edu\n",
      "(post: 479, linea: 27)---> Front Porch Computers           1-706-695-1888 <voice>\n",
      "(post: 479, linea: 28)---> Rt 2 Box 2178                   1-706-695-1990 <fax>\n",
      "(post: 485, linea: 13)---> by phone at: (415) 497-3719.\n",
      "(post: 487, linea: 24)---> Contact:    Dell or Louise Williams @ (714) 644-8305 or (714) 760-8812\n",
      "(post: 490, linea: 27)---> sugarman@cs.umb.edu | 6172876077 univ | 6177313637 home | Standard Disclaimer\n",
      "(post: 493, linea: 18)---> For Further information contact Gerald at 1-(419)-756-2950\n",
      "(post: 499, linea: 37)--->         call Kirk Peterson at (303) 494-7951 anytime.\n",
      "(post: 500, linea: 16)---> Call (916)451-3761\n",
      "(post: 501, linea: 3)----> Organization: EXCHANGE BBS *21 Nodes*  Tidewaters \"Window to the World\" 14.4bis (804)552-1010\n",
      "(post: 501, linea: 75)---> Call Michael @ (804) 486-7018 any day between 10a & 10p est. or leave\n",
      "(post: 502, linea: 26)---> \tContact:\tT. Ahmad, ihlpm!tarq, (708)979-0838 (weekdays)\n",
      "(post: 508, linea: 11)---> Lord Mayor, The Hill People | (716) 636 4862 | V127MHSK@ubvms.bitnet\n",
      "(post: 508, linea: 17)---> Lord Mayor, The Hill People | (716) 636 4862 | V127MHSK@ubvms.bitnet\n",
      "(post: 509, linea: 14)---> 803-654-8817\n",
      "(post: 510, linea: 7)----> one is preffered.  Call 495-2056 (Peter) and we'll talk about it.\n",
      "(post: 511, linea: 2)----> X-Xxmessage-Id: <A7E6E68422016542@dialup-slip-1-66.gw.umn.edu>\n",
      "(post: 515, linea: 14)---> Charles Paschal -  Total Support Computer Systems  -  Tampa  -  (813) 876-5990\n",
      "(post: 515, linea: 15)---> UUCP: paschal@tscs\t\t\t\t\t   FAX: (813) 871-2783\n",
      "(post: 515, linea: 16)---> US-MAIL: Post Office Box 15395 - Tampa, Florida  33684-5395\n",
      "(post: 519, linea: 38)---> Also if you know how to program 6518 6502 ASM code you can create your own\n",
      "(post: 521, linea: 8)----> the game is for the ibm.e-mail me or call 481 3740 and ask for orion.\n",
      "(post: 522, linea: 5)----> In article <dsblack.733712807@pv6807.vincent.iastate.edu>, dsblack@iastate.edu (Vilkata TDK) writes:\n",
      "(post: 524, linea: 1)----> Subject: Sun SCSI-2 Host Adapter for sale (501-1167)\n",
      "(post: 524, linea: 15)--->   Sun part no. 501-1167\n",
      "(post: 525, linea: 43)---> Voice path:\t(804) 295 0235 \n",
      "(post: 528, linea: 19)---> (412) 624-6115 @work, 371-0154 @home\n",
      "(post: 530, linea: 19)--->   60 Mb HDD, P/N: 6128282, Model WD-387T\n",
      "(post: 530, linea: 29)--->    (206) 453-5215 Voice\n",
      "(post: 530, linea: 30)--->    (206) 996-8350 Pager\n",
      "(post: 536, linea: 24)---> (412) 882-6425\n",
      "(post: 539, linea: 28)---> Call Pete:\t908 457-2838 (Work)\n",
      "(post: 539, linea: 29)---> \t\t908 821-5393 (Home)\n",
      "(post: 541, linea: 38)---> (408) 736-2093 home\n",
      "(post: 541, linea: 39)---> (408) 559-5616 work\n",
      "(post: 541, linea: 85)---> (408) 736-2093 home\n",
      "(post: 541, linea: 86)---> (408) 559-5616 work\n",
      "(post: 541, linea: 127)--> (408) 736-2093 home\n",
      "(post: 541, linea: 128)--> (408) 559-5616 work\n",
      "(post: 541, linea: 176)--> (408) 736-2093 home\n",
      "(post: 541, linea: 177)--> (408) 559-5616 work\n",
      "(post: 541, linea: 218)--> (408) 736-2093 home\n",
      "(post: 541, linea: 219)--> (408) 559-5616 work\n",
      "(post: 541, linea: 267)--> (408) 736-2093 home\n",
      "(post: 541, linea: 268)--> (408) 559-5616 work\n",
      "(post: 548, linea: 18)---> it is a good all around or fishing boat. If interested or for more info write tojmparkin@mtu.edu or call (313)681-4609\n",
      "(post: 550, linea: 2)----> Organization: Netcom Online Communications Services (408-241-9760 login: guest)\n",
      "(post: 551, linea: 19)---> Phone: 1-215-882-3154\n",
      "(post: 555, linea: 52)---> Mike at Home: (508) 881-6312,\n",
      "(post: 555, linea: 53)--->         Work: (508) 490-6963, or\n",
      "(post: 556, linea: 30)---> \t======  S. Alavi    [ssa@unity.ncsu.edu]  (919)467-7909 (H)  ========\n",
      "(post: 557, linea: 36)--->   bradd@pcx.ncd.com  (503) 642-9927       |NCD| PC-XDivision\n",
      "(post: 557, linea: 37)--->              (office)(503) 671-8431       +---+\n",
      "(post: 558, linea: 20)---> this colllect or parts of it. Any questions call (515) 294-3737.\n",
      "(post: 559, linea: 27)---> James Lewczyk                                   1-303-223-5100 x9267\n",
      "(post: 563, linea: 18)---> Call him (Thuan Pho) at 314-368-3624\n",
      "(post: 564, linea: 9)----> your stuff being broken or stolen.  Call Chris at (804)979-2519\n",
      "(post: 565, linea: 13)---> Davor (617)225-9489\n",
      "(post: 568, linea: 36)---> | (206)285-1576                    | If you see Dr. Fu Manchu, Kill Him! | \n",
      "(post: 568, linea: 39)---> | CIS: 73760,3521  UWID: 8722277   | :::   On the road to Cornell.   ::: |\n",
      "(post: 569, linea: 3)----> Organization: Comm-Link BBS  (216) 691-9209  Cleveland, Ohio\n",
      "(post: 570, linea: 20)---> If interested call either (614) 860-2144 or (614) 771-8861. You can also\n",
      "(post: 570, linea: 25)---> AT&T Bell Laboratories  *        Voice: 1-614-860-2144\n",
      "(post: 572, linea: 12)---> Contact Konrad at (416) 365-0564m Mon-Frii 9-5.\n",
      "(post: 574, linea: 34)---> (614) 593-1608\n",
      "(post: 577, linea: 27)---> |       @  @  @  @              John N. Le          (708) 713-4564   | \n",
      "(post: 578, linea: 17)---> Instead contact Rick at 513-271-4169.\n",
      "(post: 582, linea: 3)----> Organization: Netcom Online Communications Services (408-241-9760 login: guest)\n",
      "(post: 584, linea: 10)---> Please respond to Jack.T.Sendak@office.wang.com or at 1-800-999-3732 ext. 5269\n",
      "(post: 585, linea: 18)---> >call (408) 425-8203 ask for Bob.\n",
      "(post: 585, linea: 29)--->                                                             609-397-2147\n",
      "(post: 587, linea: 8)----> call Peter 495-2056\n",
      "(post: 588, linea: 19)--->    Interest? Please call me at 206-720-1089\n",
      "(post: 595, linea: 102)--> (408) 426-5858 x358\n",
      "(post: 598, linea: 24)---> (412) 687-3735\n",
      "(post: 603, linea: 49)---> call 614-261-0902.\n",
      "(post: 603, linea: 52)---> grichard@cis.ohio-state.edu                                   (614) 292-0056\n",
      "(post: 608, linea: 5)----> In article <colinm.735327894@cunews>\n",
      "(post: 608, linea: 11)---> From the Maxtor Product Specification and OEM Manual, Doc. 1011002 Rev. F,\n",
      "(post: 609, linea: 28)--->   Atmospheric & Environmental Research Inc.  | voice:  (617) 547-6207\n",
      "(post: 609, linea: 29)--->   840 Memorial Drive                         |   fax:  (617) 661-6479\n",
      "(post: 612, linea: 2)----> Organization: SPECTROX SYSTEMS (408)252-1005 Cupertino, Ca\n",
      "(post: 612, linea: 16)---> If interested, respond here or call 408/942-9690 Fax 408/942-9693\n",
      "(post: 613, linea: 53)---> * Steve.Shapiro@f440.n101.z1.fidonet.org  BBS: (508) 664-6354 N81  *\n",
      "(post: 616, linea: 31)---> Contact Elliott @ (703) 329-7773 office (410) 992-1734 Home\n",
      "(post: 617, linea: 13)---> * // sychNet     (1-800-541-2598)       /  World Wide         /\n",
      "(post: 617, linea: 35)---> *                               Phone:  Work (508)493-0437 (Voicemail)*\n",
      "(post: 617, linea: 36)---> *                                       Home (508)342-2362            *\n",
      "(post: 618, linea: 19)---> Please call (908) 219-5935 or email.\n",
      "(post: 620, linea: 19)---> 267 Cox St.\t\t\t\tOffice: (508) 568-1618\n",
      "(post: 620, linea: 20)---> Hudson, Ma.\t\t\t\tFAX: (508) 562-1133\n",
      "(post: 621, linea: 14)---> LFO. If interested contact Kevin before 9 pm PST (California) at 818-362-7883\n",
      "(post: 621, linea: 25)--->    The CyberDen - Public Access Waffle Usenet System - 415/472-5527\n",
      "(post: 623, linea: 8)----> In <2943988816.0.p00020@psilink.com> \"Jack Previdi\" <p00020@psilink.com> writes:\n",
      "(post: 625, linea: 16)---> \t\tLaura Forbes (503)275-4483\n",
      "(post: 626, linea: 9)---->         Phone           (703)552-4381\n",
      "(post: 629, linea: 28)--->          Please Call Mike: 908-949-3804 (Day)\n",
      "(post: 629, linea: 29)--->                            908-469-3250 (Eves)\n",
      "(post: 630, linea: 37)---> (614) 777-0791 home (leave message)\n",
      "(post: 633, linea: 13)---> Call (415) 824 6209, ask for Larry.\n",
      "(post: 634, linea: 19)---> (412) 882-6425\n",
      "(post: 638, linea: 7)----> >In article <colinm.735327894@cunews>\n",
      "(post: 638, linea: 32)--->  Donald Nichols (DoN.)  |   Voice (Days): (703) 704-2280 (Eves): (703) 938-4564\n",
      "(post: 640, linea: 26)--->     (716) 427-0701... ask for Sawran\n",
      "(post: 642, linea: 31)---> 215-885-7446 (Philadelphia), and I'll save the package for you.\n",
      "(post: 648, linea: 35)---> *  j.j.arthur@larc.nasa.gov      (804) 865-1725               *\n",
      "(post: 649, linea: 30)---> E-mail halle@rpi.edu   phone (518)276-7382\n",
      "(post: 652, linea: 62)---> Please E-mail me with a response or call (807) 344-0010\n",
      "(post: 653, linea: 18)--->        Dave Medin\t\t\tPhone:\t(205) 730-3169 (w)\n",
      "(post: 653, linea: 19)--->     SSD--Networking\t\t\t\t(205) 837-1174 (h)\n",
      "(post: 654, linea: 9)----> inquire at 801-269-1157 MST (Utah).\n",
      "(post: 656, linea: 12)---> a lot and offers appreciated.  Dave 317-495-5978  kari@sage.cc.purdue.edu\n",
      "(post: 658, linea: 11)---> Call (708) 682-8222 and ask for Harriet Bode (Prudential Realty)\n",
      "(post: 662, linea: 21)---> either E-Mail me or call him (Mike Metalios) at (410)665-5773.\n",
      "(post: 663, linea: 9)---->         Phone           (703)552-4381\n",
      "(post: 664, linea: 17)--->                           (804)979-3235\n",
      "(post: 669, linea: 32)---> 609-546-0004.  She'll arrange for a showing off.\n",
      "(post: 670, linea: 27)---> |       @  @  @  @              John N. Le          (708) 713-4564   | \n",
      "(post: 676, linea: 12)---> Fax: (312) 732-7284                    / Thanks. Enjoy the buffet!\n",
      "(post: 681, linea: 17)--->               o                   WORK (503) 578-3822\n",
      "(post: 682, linea: 25)---> Call for appointment at (609) 586-1946.\n",
      "(post: 683, linea: 40)---> (719)-531-4460\t|\tNetwork Test Division   \n",
      "(post: 689, linea: 3)----> Organization: Aquila BBS - Aurora, IL - 820-8344\n",
      "(post: 689, linea: 13)---> 703-435-9590 FEEL FREE TO CALL for quickest service.\n",
      "(post: 690, linea: 15)---> the phone is 800-732-3396  or  800-358-club  or  800-753-7877 the address is\n",
      "(post: 693, linea: 25)---> | Bensalem, PA 19020     |    Ma Bell: 215/757-3126\n",
      "(post: 695, linea: 37)---> 1984-1986 Y Car Parts and Illustration Catalog [GM Manual]....... $ 7.50\n",
      "(post: 695, linea: 42)---> Corvette Driver/Owner Guide For 1953-1988 Models [Antonick]...... $ 7.50\n",
      "(post: 695, linea: 73)---> 1050 Wall Street, Suite 10C   //           Telephone: 313/663-5557\n",
      "(post: 698, linea: 2)----> Article-I.D.: cheever.eric-060493114735\n",
      "(post: 698, linea: 25)---> (617) 278-0068.\n",
      "(post: 698, linea: 31)---> | Center for Clinical Computing .......... Boston, MA  (617) 732-5925 |\n",
      "(post: 699, linea: 23)---> Includes an official full-length GRE Economics Test from 1985-1986 and \n",
      "(post: 699, linea: 28)---> Includes three official GRE General Tests from 1989-1990 (w/ answers but\n",
      "(post: 699, linea: 37)---> | (206)285-1576                    | If you see Dr. Fu Manchu, Kill Him! | \n",
      "(post: 699, linea: 40)---> | CIS: 73760,3521  UWID: 8722277   | :::   Cornell here I come!!!    ::: |\n",
      "(post: 701, linea: 3)----> Organization: Ed Hopper's BBS - Berkeley Lake, GA - 404-446-9462\n",
      "(post: 701, linea: 51)---> |USR/HST:404-446-9462 V.32bis:404-446-9465-Home of uuPCB Usenet for PC Board|\n",
      "(post: 702, linea: 32)---> 205-730-6236\n",
      "(post: 711, linea: 4)----> Organization: Cincinnati Computer Connection - Cincinnati, OH - 513-752-1055\n",
      "(post: 712, linea: 11)---> please reply to Jeffo at spooge@u.washington.edu or (206)543-0340\n",
      "(post: 714, linea: 43)---> Address: Ronald R. Duff Jr.         Phone: (508)842-2293 (Home)\n",
      "(post: 714, linea: 44)--->          29 Lamplighter Drive              (617)253-1652 (Work)(MIT room 6-332)\n",
      "(post: 715, linea: 38)---> Duane Fields                  Friends don't      Work#   (409) 845-6904\n",
      "(post: 715, linea: 39)---> Box 1315                     let friends use     Home#   (409) 847-6760\n",
      "(post: 716, linea: 20)---> 267 Cox St.\t\t\t\tOffice: (508) 568-1618\n",
      "(post: 716, linea: 21)---> Hudson, Ma.\t\t\t\tFAX: (508) 562-1133\n",
      "(post: 719, linea: 12)---> Charles Paschal -  Total Support Computer Systems  -  Tampa  -  (813) 876-5990\n",
      "(post: 719, linea: 13)---> UUCP: paschal@tscs\t\t\t\t\t   FAX: (813) 871-2783\n",
      "(post: 719, linea: 14)---> US-MAIL: Post Office Box 15395 - Tampa, Florida  33684-5395\n",
      "(post: 721, linea: 112)--> (408)426-5858 x 358 (w)\n",
      "(post: 721, linea: 113)--> (408)475-8027       (h)\n",
      "(post: 727, linea: 20)---> \tSend e-mail to allen@zansiii.millersv.edu or call (717)872-8944.\n",
      "(post: 734, linea: 15)---> Please contact me at tallen@corp.hp.com  or (415)857-5878.\n",
      "(post: 735, linea: 91)---> \t\t\tnumber on it: 2626-361723.\n",
      "(post: 735, linea: 93)---> \t\t\tanother number on it: H3649-101457\n",
      "(post: 735, linea: 110)--> \tD1181-80020\t\t~$10\n",
      "(post: 735, linea: 127)--> (617)-225-9349\n",
      "(post: 736, linea: 30)---> \tPHONE: 908-582-7028 (Leave Message)\n",
      "(post: 738, linea: 3)----> Organization: Pics OnLine! MultiUser System - 609-753-2540\n",
      "(post: 738, linea: 31)---> Dino Fiabane, 150 Weston Drive, Cherry Hill, NJ  08003-2132\n",
      "(post: 738, linea: 32)---> phone (609) 424-3836\n",
      "(post: 738, linea: 38)---> | Pics OnLine MultiUser System   (609)753-2540 HST    609-753-1549 (V32) |\n",
      "(post: 739, linea: 16)---> contact doug  (906) 487-0369 or (815) 623-6447\n",
      "(post: 746, linea: 10)---> or call me at (814)234-4439.\n",
      "(post: 747, linea: 63)---> 215-885-7446 (Philadelphia), and I'll save the package for you.\n",
      "(post: 755, linea: 14)---> phones: 919-851-6565(h) 919-549-7017(w)\n",
      "(post: 756, linea: 42)--->     (602)925-6123 in the day time this is his business number.\n",
      "(post: 756, linea: 43)--->     (602)842-2145 in the evenings this is his home number.\n",
      "(post: 756, linea: 71)---> (602) 925-6123 (days) (602) 842-2145 (evenings)\n",
      "(post: 757, linea: 9)----> 803-654-8817\n",
      "(post: 760, linea: 2)----> Organization: Computer Engineering Group, Georgia Tech, Atlanta, GA 30332-0250\n",
      "(post: 760, linea: 17)---> School of Electrical Engineering                Atlanta, GA  30332-0250\n",
      "(post: 761, linea: 11)---> *1600-1700 CPS compressed file transfers (higher for uncompressed\n",
      "(post: 761, linea: 24)---> or call VOICE: 619 622 1949\n",
      "(post: 762, linea: 3)----> Organization: Netcom - Online Communication Services (408 241-9760 guest)\n",
      "(post: 765, linea: 24)---> scott@sparcom.com - Telephone (503) 757-8416 - FAX (503) 753-7821\n",
      "(post: 770, linea: 12)--->      contact: (408)721-3702\n",
      "(post: 771, linea: 33)---> Send replies to harrij@rpi.edu or (518)271-7942\n",
      "(post: 775, linea: 26)---> (210)545-4741, ask for Ralf\n",
      "(post: 779, linea: 22)--->         Call Raj @ (510)-938-5600, ext 251 (days)\n",
      "(post: 779, linea: 23)--->                  (510)-796-5185 (evenings)\n",
      "(post: 780, linea: 21)--->                or call (301) 405 2947\n",
      "(post: 782, linea: 8)----> Reply to haljordan@delphi.com or call 708 674-2603:\n",
      "(post: 786, linea: 14)---> Interested?  Please E-mail or call (415) 926-2664 wk\n",
      "(post: 786, linea: 15)---> or (408) 248-0411 eves.\n",
      "(post: 789, linea: 21)---> Call Johnny at 312/856-1767\n",
      "(post: 792, linea: 22)---> phone:  215-645-5620\n",
      "(post: 793, linea: 24)--->  (301) 498-3749\t\t\t\t\t(410) 706-2042\n",
      "(post: 794, linea: 18)---> If interested Call Me at (408) 473-4159 leave message I will return your \n",
      "(post: 798, linea: 32)---> \tPHONE: 908-582-7028 (Day)\n",
      "(post: 798, linea: 33)---> \t       609-259-0763 (Nights & Weekends)\n",
      "(post: 802, linea: 20)---> or phone (201) 386-2949 office.\n",
      "(post: 804, linea: 35)---> \tCall Medi Amadi at   510-601-1525   eves\n",
      "(post: 804, linea: 36)---> \t\t\t     510-823-3366   days\t\n",
      "(post: 805, linea: 15)---> Newark, DE 19716 USA (302 831 2575)\n",
      "(post: 809, linea: 21)---> phones: 919-851-6565(h) 919-549-7017(w)\n",
      "(post: 810, linea: 2)----> Organization: SPECTROX SYSTEMS (408)252-1005 Cupertino, Ca\n",
      "(post: 810, linea: 13)---> If interested, respond here or call 408/942-9690 Fax 408/942-9693\n",
      "(post: 811, linea: 11)--->            call (408) 296-4444\n",
      "(post: 812, linea: 19)---> Phone (408) 296-4444 Frank Rosqui\n",
      "(post: 813, linea: 29)---> \tsend all responses to halle@rpi.edu ,  or call (518)276-7382 eve.\n",
      "(post: 814, linea: 26)--->                    JUDY DIEHL (219) 838-8234\n",
      "(post: 815, linea: 18)--->     (914) 335-6984 day (until 5pm)\n",
      "(post: 815, linea: 19)--->     (609) 397-2147 (after 7pm)\n",
      "(post: 816, linea: 27)--->         Please call 408-366-3570 (Fulvio)\n",
      "(post: 821, linea: 8)----> huskey.  I am in the Pittsburgh area.  My number is 412 268-8843.  \n",
      "(post: 830, linea: 17)---> Owner:\t\t\tSteve and Joyce Harvey   Phone: (206) 254-4267\n",
      "(post: 832, linea: 9)---->         Phone           (703)552-4381\n",
      "(post: 834, linea: 19)---> Eric (803)6548817\n",
      "(post: 840, linea: 17)---> Generator - 120 VAC 2000-2500 watt, has a voltmeter w/duplex outlet, a 5 hp\n",
      "(post: 840, linea: 26)---> Craig    days: 979-0059  home: 293-5739\n",
      "(post: 843, linea: 3)----> Organization: NETCOM On-line Communication Services (408 241-9760 guest)\n",
      "(post: 846, linea: 9)----> address or call him at 503-752-1499.  (Glen)\n",
      "(post: 847, linea: 23)---> (503)737-9410\n",
      "(post: 852, linea: 18)---> La Jolla, CA 92093-0114\t(619) 534-0688, or -8187, FAX: (619) 534-7029\n",
      "(post: 853, linea: 6)----> In article <hatton.733706165@cgl.ucsf.edu> hatton@socrates.ucsf.edu (Tom Hatton) writes:\n",
      "(post: 854, linea: 14)---> (403) 459-2893\n",
      "(post: 857, linea: 40)---> Dr.Victor V.Levenson               Tel (804) 924 2370 lab\n",
      "(post: 858, linea: 14)---> bbates@pro-freedom.van.wa.us   -==-   Pro-Freedom BBS - (206) 694-3276\n",
      "(post: 862, linea: 25)---> Please reply via email or call me at my home number:  (617) 277-9234.\n",
      "(post: 862, linea: 32)---> | Center for Clinical Computing .......... Boston, MA  (617) 732-5925 |\n",
      "(post: 865, linea: 16)---> email bartmich@cwis.isu.edu Phone 208-233-8039\n",
      "(post: 870, linea: 15)---> call Cheryl at 508-653-2452, x. 301.\n",
      "(post: 878, linea: 10)---> E-Mail or call me at (814)234-4439.\n",
      "(post: 883, linea: 13)---> \temail or call 510/947-6987 (SF Bay Area)\n",
      "(post: 884, linea: 3)----> Organization: Pics OnLine! MultiUser System - 609-753-2540\n",
      "(post: 884, linea: 31)---> Dino Fiabane, 150 Weston Drive, Cherry Hill, NJ  08003-2132\n",
      "(post: 884, linea: 32)---> phone (609) 424-3836\n",
      "(post: 884, linea: 38)---> | Pics OnLine MultiUser System   (609)753-2540 HST    609-753-1549 (V32) |\n",
      "(post: 886, linea: 2)----> Organization: Computer Engineering Group, Georgia Tech, Atlanta, GA 30332-0250\n",
      "(post: 886, linea: 18)---> School of Electrical Engineering                Atlanta, GA  30332-0250\n",
      "(post: 889, linea: 59)---> HOME (503) 591-5466\tWORK (503) 578-3822\n",
      "(post: 889, linea: 63)--->               o                   WORK (503) 578-3822\n",
      "(post: 893, linea: 14)---> Please email at tsai@eniac.seas.upenn.edu or call (215)573-6252.\n",
      "(post: 896, linea: 5)---->     ****    him  J.K Lee  (614)791-0748    or Drop me a mail     ****\n",
      "(post: 897, linea: 14)---> \tIf your interested call me at (317)743-2656  or email this address.\n",
      "(post: 906, linea: 4)----> Organization: Cincinnati Computer Connection - Cincinnati, OH - 513-752-1055\n",
      "(post: 907, linea: 34)--->            (512) 343-0332 <leave message>\n",
      "(post: 909, linea: 16)--->         |  Raleigh N.C. 27650-5604      |      sponna@eos.ncsu.edu      |\n",
      "(post: 909, linea: 17)--->         |  Phone:(919) 781-5448         |      ponna-s@aza.csc.ncsu.edu |\n",
      "(post: 920, linea: 19)---> ============================================== tel 619-278-8779\n",
      "(post: 922, linea: 21)---> at 416-233-6038.\n",
      "(post: 922, linea: 30)---> 416-629-7000/629-7044\n",
      "(post: 923, linea: 34)---> \tCall (908) 821-2498.\n",
      "(post: 932, linea: 14)---> \tIf your interested call me at 317-743-2656  or email this address.\n",
      "(post: 934, linea: 3)----> Organization: Information Gateway BBS -- +1 404-928-7873\n",
      "(post: 934, linea: 78)---> Information Gateway BBS +1 404-928-7873  Public Access Newsgroups/Email\t\n",
      "(post: 936, linea: 12)--->            work: (513) - 576-5986. Leave voicemail please.\n",
      "(post: 937, linea: 2)----> Organization: GDX-BBS,Central Pa Unix BBS/anon uucp (717)737-3249 PEP+/2400/1200 24hrs\n",
      "(post: 937, linea: 12)---> (717)737-3236 (only after 5pm -- please don't wake the night worker\n",
      "(post: 937, linea: 14)---> (717)540-2895 if you must call during the day (I can understand if you\n",
      "(post: 937, linea: 19)---> This is your Brain: (unix)              GDX-BBS (717) 737-3249 WorldBlazer\n",
      "(post: 937, linea: 24)---> This is your Brain: (unix)              GDX-BBS (717) 737-3249 WorldBlazer\n",
      "(post: 940, linea: 23)---> 215-885-7446 (Philadelphia) and I'll save the package for you.\n",
      "(post: 943, linea: 28)---> Reply by EMAIL or call Canada (613)591-0507\n",
      "(post: 943, linea: 31)---> Simon Curry, Executive Director                   Tele: (613)991-9001\n",
      "(post: 943, linea: 32)---> The Royal Society of Canada                       Fax:  (613)991-6996\n",
      "(post: 943, linea: 37)---> Simon Curry                                       Tele: (613)991-9001\n",
      "(post: 943, linea: 38)---> The Royal Society of Canada                       Fax:  (613)991-6996\n",
      "(post: 948, linea: 15)---> #403-478-4010  HST and v.32bis  Try it, you'll like it!\n",
      "(post: 949, linea: 26)---> hm 408-263-3709\n",
      "(post: 949, linea: 27)---> wk 408-276-3618\n",
      "(post: 951, linea: 25)---> return E-mail    or call 215/387-0203 (home)  \n",
      "(post: 951, linea: 26)--->                          215/898-8099 (office)\n",
      "(post: 954, linea: 3)----> Organization: Pics OnLine! MultiUser System - 609-753-2540\n",
      "(post: 954, linea: 18)---> Dino Fiabane, 150 Weston Drive, Cherry Hill, NJ  08003-2132\n",
      "(post: 954, linea: 19)---> phone (609) 424-3836\n",
      "(post: 954, linea: 26)---> | Pics OnLine MultiUser System   (609)753-2540 HST    609-753-1549 (V32) |\n",
      "(post: 957, linea: 11)---> Scott (303)962-9473 x9779\n",
      "(post: 958, linea: 13)---> (614)575-1345, he is the Sysop, and you can call him and hear his awesome voice\n",
      "(post: 958, linea: 14)---> at (614)577-9673.\n",
      "(post: 962, linea: 37)---> 707-546-0669\n",
      "(post: 963, linea: 6)----> You can reach me at 415 626-5869 (San Francisco)), or via email at\n",
      "(post: 966, linea: 9)----> OBO.  See in Algonquin or Schaumburg.  (708) 658-5285, (708) 576-0675,\n",
      "(post: 967, linea: 71)---> (719)-531-4460\t|\tNetwork Test Division   \n",
      "(post: 970, linea: 11)---> take delivery in Berkeley. CALL (510) 287-5737 and leave name\n",
      "(post: 972, linea: 20)---> For more information contact: Beverly Morgan - Contempo Realty (408) 773-8236\n"
     ]
    }
   ],
   "source": [
    "for num_post, post in enumerate(forsale_data):\n",
    "    post = post.splitlines()\n",
    "    for num_linea, linea in enumerate(post):\n",
    "        encontrado = numeroTelefonoRegex.search(linea)\n",
    "        if (encontrado):\n",
    "            posicion = f\"(post: {num_post}, linea: {num_linea})\"\n",
    "            print(f\"{posicion:-<24}-> {linea}\")"
   ]
  },
  {
   "cell_type": "markdown",
   "metadata": {
    "slideshow": {
     "slide_type": "slide"
    }
   },
   "source": [
    "### Para seguir leyendo:\n",
    "- Al Sweigart. 2015. Automate the Boring Stuff with Python: Practical Programming for Total Beginners (1st ed.). No Starch Press, San Francisco, CA, USA. [Link](https://automatetheboringstuff.com/chapter7/)"
   ]
  },
  {
   "cell_type": "markdown",
   "metadata": {
    "slideshow": {
     "slide_type": "slide"
    }
   },
   "source": [
    "# How to Excel in Python"
   ]
  },
  {
   "cell_type": "markdown",
   "metadata": {
    "slideshow": {
     "slide_type": "slide"
    }
   },
   "source": [
    "### Buenas prácticas para trabajar con hojas de cálculo:\n",
    "* Usar la primera fila para y la primera columna para especificar el encabezado y el número de observación, respectivamente.\n",
    "* Es mejor que los nombres de las columnas no contengan espacios.\n",
    "* Evitar que los nombres contengan símbolos como por ejemplo: ?, $,%, ^, &, *, (,),-,#, ?,,,<,>, /, |, , [ ,] ,{, and }\n",
    "* Borrar los comentarios."
   ]
  },
  {
   "cell_type": "markdown",
   "metadata": {
    "slideshow": {
     "slide_type": "slide"
    }
   },
   "source": [
    "## Importamos una hoja de cálculo"
   ]
  },
  {
   "cell_type": "markdown",
   "metadata": {
    "slideshow": {
     "slide_type": "slide"
    }
   },
   "source": [
    "`conda install pandas`"
   ]
  },
  {
   "cell_type": "markdown",
   "metadata": {
    "slideshow": {
     "slide_type": "slide"
    }
   },
   "source": [
    "`python3 -m pip install --upgrade pandas`"
   ]
  },
  {
   "cell_type": "code",
   "execution_count": 8,
   "metadata": {
    "slideshow": {
     "slide_type": "slide"
    }
   },
   "outputs": [],
   "source": [
    "import pandas as pd"
   ]
  },
  {
   "cell_type": "code",
   "execution_count": 9,
   "metadata": {
    "scrolled": true,
    "slideshow": {
     "slide_type": "slide"
    }
   },
   "outputs": [],
   "source": [
    "iris = pd.read_excel('datos/Iris.xls', sheet_name=0)\n",
    "#iris = pd.read_excel('/home/agustina/Documents/meetup noviembre/Iris.xls', sheet_name=0)"
   ]
  },
  {
   "attachments": {
    "iris.jpeg": {
     "image/jpeg": "[encoded data removed]"
    }
   },
   "cell_type": "markdown",
   "metadata": {
    "slideshow": {
     "slide_type": "slide"
    }
   },
   "source": [
    "![iris.jpeg](attachment:iris.jpeg)\n"
   ]
  },
  {
   "cell_type": "code",
   "execution_count": 10,
   "metadata": {
    "slideshow": {
     "slide_type": "slide"
    }
   },
   "outputs": [
    {
     "data": {
      "text/html": [
       "<div>\n",
       "<style scoped>\n",
       "    .dataframe tbody tr th:only-of-type {\n",
       "        vertical-align: middle;\n",
       "    }\n",
       "\n",
       "    .dataframe tbody tr th {\n",
       "        vertical-align: top;\n",
       "    }\n",
       "\n",
       "    .dataframe thead th {\n",
       "        text-align: right;\n",
       "    }\n",
       "</style>\n",
       "<table border=\"1\" class=\"dataframe\">\n",
       "  <thead>\n",
       "    <tr style=\"text-align: right;\">\n",
       "      <th></th>\n",
       "      <th>largo_sepalo</th>\n",
       "      <th>ancho_sepalo</th>\n",
       "      <th>largo_petalo</th>\n",
       "      <th>ancho_petalo</th>\n",
       "      <th>especie</th>\n",
       "    </tr>\n",
       "  </thead>\n",
       "  <tbody>\n",
       "    <tr>\n",
       "      <th>0</th>\n",
       "      <td>5.1</td>\n",
       "      <td>3.5</td>\n",
       "      <td>1.4</td>\n",
       "      <td>0.2</td>\n",
       "      <td>Iris-setosa</td>\n",
       "    </tr>\n",
       "    <tr>\n",
       "      <th>1</th>\n",
       "      <td>4.9</td>\n",
       "      <td>3.0</td>\n",
       "      <td>1.4</td>\n",
       "      <td>0.2</td>\n",
       "      <td>Iris-setosa</td>\n",
       "    </tr>\n",
       "    <tr>\n",
       "      <th>2</th>\n",
       "      <td>4.7</td>\n",
       "      <td>3.2</td>\n",
       "      <td>1.3</td>\n",
       "      <td>0.2</td>\n",
       "      <td>Iris-setosa</td>\n",
       "    </tr>\n",
       "    <tr>\n",
       "      <th>3</th>\n",
       "      <td>4.6</td>\n",
       "      <td>3.1</td>\n",
       "      <td>1.5</td>\n",
       "      <td>0.2</td>\n",
       "      <td>Iris-setosa</td>\n",
       "    </tr>\n",
       "    <tr>\n",
       "      <th>4</th>\n",
       "      <td>5.0</td>\n",
       "      <td>3.6</td>\n",
       "      <td>1.4</td>\n",
       "      <td>0.2</td>\n",
       "      <td>Iris-setosa</td>\n",
       "    </tr>\n",
       "  </tbody>\n",
       "</table>\n",
       "</div>"
      ],
      "text/plain": [
       "   largo_sepalo  ancho_sepalo  largo_petalo  ancho_petalo      especie\n",
       "0           5.1           3.5           1.4           0.2  Iris-setosa\n",
       "1           4.9           3.0           1.4           0.2  Iris-setosa\n",
       "2           4.7           3.2           1.3           0.2  Iris-setosa\n",
       "3           4.6           3.1           1.5           0.2  Iris-setosa\n",
       "4           5.0           3.6           1.4           0.2  Iris-setosa"
      ]
     },
     "execution_count": 10,
     "metadata": {},
     "output_type": "execute_result"
    }
   ],
   "source": [
    "iris.head()"
   ]
  },
  {
   "cell_type": "markdown",
   "metadata": {
    "slideshow": {
     "slide_type": "slide"
    }
   },
   "source": [
    "## Filtramos"
   ]
  },
  {
   "cell_type": "code",
   "execution_count": 11,
   "metadata": {
    "slideshow": {
     "slide_type": "slide"
    }
   },
   "outputs": [
    {
     "data": {
      "text/plain": [
       "0    Iris-setosa\n",
       "1    Iris-setosa\n",
       "2    Iris-setosa\n",
       "3    Iris-setosa\n",
       "4    Iris-setosa\n",
       "Name: especie, dtype: object"
      ]
     },
     "execution_count": 11,
     "metadata": {},
     "output_type": "execute_result"
    }
   ],
   "source": [
    "# seleccionar una columna\n",
    "iris.especie.head()"
   ]
  },
  {
   "cell_type": "code",
   "execution_count": 12,
   "metadata": {
    "scrolled": true,
    "slideshow": {
     "slide_type": "slide"
    }
   },
   "outputs": [
    {
     "data": {
      "text/plain": [
       "largo_sepalo            5.4\n",
       "ancho_sepalo            3.9\n",
       "largo_petalo            1.7\n",
       "ancho_petalo            0.4\n",
       "especie         Iris-setosa\n",
       "Name: 5, dtype: object"
      ]
     },
     "execution_count": 12,
     "metadata": {},
     "output_type": "execute_result"
    }
   ],
   "source": [
    "# seleccionar una fila\n",
    "iris.iloc[5]"
   ]
  },
  {
   "cell_type": "code",
   "execution_count": 13,
   "metadata": {
    "slideshow": {
     "slide_type": "slide"
    }
   },
   "outputs": [
    {
     "data": {
      "text/html": [
       "<div>\n",
       "<style scoped>\n",
       "    .dataframe tbody tr th:only-of-type {\n",
       "        vertical-align: middle;\n",
       "    }\n",
       "\n",
       "    .dataframe tbody tr th {\n",
       "        vertical-align: top;\n",
       "    }\n",
       "\n",
       "    .dataframe thead th {\n",
       "        text-align: right;\n",
       "    }\n",
       "</style>\n",
       "<table border=\"1\" class=\"dataframe\">\n",
       "  <thead>\n",
       "    <tr style=\"text-align: right;\">\n",
       "      <th></th>\n",
       "      <th>largo_sepalo</th>\n",
       "      <th>ancho_sepalo</th>\n",
       "      <th>largo_petalo</th>\n",
       "      <th>ancho_petalo</th>\n",
       "      <th>especie</th>\n",
       "    </tr>\n",
       "  </thead>\n",
       "  <tbody>\n",
       "    <tr>\n",
       "      <th>0</th>\n",
       "      <td>5.1</td>\n",
       "      <td>3.5</td>\n",
       "      <td>1.4</td>\n",
       "      <td>0.2</td>\n",
       "      <td>Iris-setosa</td>\n",
       "    </tr>\n",
       "    <tr>\n",
       "      <th>1</th>\n",
       "      <td>4.9</td>\n",
       "      <td>3.0</td>\n",
       "      <td>1.4</td>\n",
       "      <td>0.2</td>\n",
       "      <td>Iris-setosa</td>\n",
       "    </tr>\n",
       "    <tr>\n",
       "      <th>2</th>\n",
       "      <td>4.7</td>\n",
       "      <td>3.2</td>\n",
       "      <td>1.3</td>\n",
       "      <td>0.2</td>\n",
       "      <td>Iris-setosa</td>\n",
       "    </tr>\n",
       "    <tr>\n",
       "      <th>3</th>\n",
       "      <td>4.6</td>\n",
       "      <td>3.1</td>\n",
       "      <td>1.5</td>\n",
       "      <td>0.2</td>\n",
       "      <td>Iris-setosa</td>\n",
       "    </tr>\n",
       "    <tr>\n",
       "      <th>4</th>\n",
       "      <td>5.0</td>\n",
       "      <td>3.6</td>\n",
       "      <td>1.4</td>\n",
       "      <td>0.2</td>\n",
       "      <td>Iris-setosa</td>\n",
       "    </tr>\n",
       "  </tbody>\n",
       "</table>\n",
       "</div>"
      ],
      "text/plain": [
       "   largo_sepalo  ancho_sepalo  largo_petalo  ancho_petalo      especie\n",
       "0           5.1           3.5           1.4           0.2  Iris-setosa\n",
       "1           4.9           3.0           1.4           0.2  Iris-setosa\n",
       "2           4.7           3.2           1.3           0.2  Iris-setosa\n",
       "3           4.6           3.1           1.5           0.2  Iris-setosa\n",
       "4           5.0           3.6           1.4           0.2  Iris-setosa"
      ]
     },
     "execution_count": 13,
     "metadata": {},
     "output_type": "execute_result"
    }
   ],
   "source": [
    "# seleccionar todas las observaciones de la clase iris-setosa\n",
    "iris[iris.especie == 'Iris-setosa'].head()"
   ]
  },
  {
   "cell_type": "markdown",
   "metadata": {
    "slideshow": {
     "slide_type": "slide"
    }
   },
   "source": [
    "## Creamos una nueva columna"
   ]
  },
  {
   "cell_type": "code",
   "execution_count": 14,
   "metadata": {
    "slideshow": {
     "slide_type": "slide"
    }
   },
   "outputs": [
    {
     "data": {
      "text/html": [
       "<div>\n",
       "<style scoped>\n",
       "    .dataframe tbody tr th:only-of-type {\n",
       "        vertical-align: middle;\n",
       "    }\n",
       "\n",
       "    .dataframe tbody tr th {\n",
       "        vertical-align: top;\n",
       "    }\n",
       "\n",
       "    .dataframe thead th {\n",
       "        text-align: right;\n",
       "    }\n",
       "</style>\n",
       "<table border=\"1\" class=\"dataframe\">\n",
       "  <thead>\n",
       "    <tr style=\"text-align: right;\">\n",
       "      <th></th>\n",
       "      <th>largo_sepalo</th>\n",
       "      <th>ancho_sepalo</th>\n",
       "      <th>largo_petalo</th>\n",
       "      <th>ancho_petalo</th>\n",
       "      <th>especie</th>\n",
       "      <th>sepalo_x</th>\n",
       "    </tr>\n",
       "  </thead>\n",
       "  <tbody>\n",
       "    <tr>\n",
       "      <th>0</th>\n",
       "      <td>5.1</td>\n",
       "      <td>3.5</td>\n",
       "      <td>1.4</td>\n",
       "      <td>0.2</td>\n",
       "      <td>Iris-setosa</td>\n",
       "      <td>17.85</td>\n",
       "    </tr>\n",
       "    <tr>\n",
       "      <th>1</th>\n",
       "      <td>4.9</td>\n",
       "      <td>3.0</td>\n",
       "      <td>1.4</td>\n",
       "      <td>0.2</td>\n",
       "      <td>Iris-setosa</td>\n",
       "      <td>14.70</td>\n",
       "    </tr>\n",
       "    <tr>\n",
       "      <th>2</th>\n",
       "      <td>4.7</td>\n",
       "      <td>3.2</td>\n",
       "      <td>1.3</td>\n",
       "      <td>0.2</td>\n",
       "      <td>Iris-setosa</td>\n",
       "      <td>15.04</td>\n",
       "    </tr>\n",
       "    <tr>\n",
       "      <th>3</th>\n",
       "      <td>4.6</td>\n",
       "      <td>3.1</td>\n",
       "      <td>1.5</td>\n",
       "      <td>0.2</td>\n",
       "      <td>Iris-setosa</td>\n",
       "      <td>14.26</td>\n",
       "    </tr>\n",
       "    <tr>\n",
       "      <th>4</th>\n",
       "      <td>5.0</td>\n",
       "      <td>3.6</td>\n",
       "      <td>1.4</td>\n",
       "      <td>0.2</td>\n",
       "      <td>Iris-setosa</td>\n",
       "      <td>18.00</td>\n",
       "    </tr>\n",
       "  </tbody>\n",
       "</table>\n",
       "</div>"
      ],
      "text/plain": [
       "   largo_sepalo  ancho_sepalo  largo_petalo  ancho_petalo      especie  \\\n",
       "0           5.1           3.5           1.4           0.2  Iris-setosa   \n",
       "1           4.9           3.0           1.4           0.2  Iris-setosa   \n",
       "2           4.7           3.2           1.3           0.2  Iris-setosa   \n",
       "3           4.6           3.1           1.5           0.2  Iris-setosa   \n",
       "4           5.0           3.6           1.4           0.2  Iris-setosa   \n",
       "\n",
       "   sepalo_x  \n",
       "0     17.85  \n",
       "1     14.70  \n",
       "2     15.04  \n",
       "3     14.26  \n",
       "4     18.00  "
      ]
     },
     "execution_count": 14,
     "metadata": {},
     "output_type": "execute_result"
    }
   ],
   "source": [
    "iris['sepalo_x'] = iris.largo_sepalo * iris.ancho_sepalo\n",
    "iris.head()"
   ]
  },
  {
   "cell_type": "markdown",
   "metadata": {
    "slideshow": {
     "slide_type": "slide"
    }
   },
   "source": [
    "## Definimos una función"
   ]
  },
  {
   "cell_type": "code",
   "execution_count": 15,
   "metadata": {
    "slideshow": {
     "slide_type": "slide"
    }
   },
   "outputs": [],
   "source": [
    "def model(x):\n",
    "    return (x * 0.32 **3) / 21 ** 0.5 * 100"
   ]
  },
  {
   "cell_type": "code",
   "execution_count": 16,
   "metadata": {
    "slideshow": {
     "slide_type": "slide"
    }
   },
   "outputs": [
    {
     "data": {
      "text/html": [
       "<div>\n",
       "<style scoped>\n",
       "    .dataframe tbody tr th:only-of-type {\n",
       "        vertical-align: middle;\n",
       "    }\n",
       "\n",
       "    .dataframe tbody tr th {\n",
       "        vertical-align: top;\n",
       "    }\n",
       "\n",
       "    .dataframe thead th {\n",
       "        text-align: right;\n",
       "    }\n",
       "</style>\n",
       "<table border=\"1\" class=\"dataframe\">\n",
       "  <thead>\n",
       "    <tr style=\"text-align: right;\">\n",
       "      <th></th>\n",
       "      <th>largo_sepalo</th>\n",
       "      <th>ancho_sepalo</th>\n",
       "      <th>largo_petalo</th>\n",
       "      <th>ancho_petalo</th>\n",
       "      <th>especie</th>\n",
       "      <th>sepalo_x</th>\n",
       "      <th>nueva_característica</th>\n",
       "    </tr>\n",
       "  </thead>\n",
       "  <tbody>\n",
       "    <tr>\n",
       "      <th>0</th>\n",
       "      <td>5.1</td>\n",
       "      <td>3.5</td>\n",
       "      <td>1.4</td>\n",
       "      <td>0.2</td>\n",
       "      <td>Iris-setosa</td>\n",
       "      <td>17.85</td>\n",
       "      <td>1.001079</td>\n",
       "    </tr>\n",
       "    <tr>\n",
       "      <th>1</th>\n",
       "      <td>4.9</td>\n",
       "      <td>3.0</td>\n",
       "      <td>1.4</td>\n",
       "      <td>0.2</td>\n",
       "      <td>Iris-setosa</td>\n",
       "      <td>14.70</td>\n",
       "      <td>1.001079</td>\n",
       "    </tr>\n",
       "    <tr>\n",
       "      <th>2</th>\n",
       "      <td>4.7</td>\n",
       "      <td>3.2</td>\n",
       "      <td>1.3</td>\n",
       "      <td>0.2</td>\n",
       "      <td>Iris-setosa</td>\n",
       "      <td>15.04</td>\n",
       "      <td>0.929573</td>\n",
       "    </tr>\n",
       "    <tr>\n",
       "      <th>3</th>\n",
       "      <td>4.6</td>\n",
       "      <td>3.1</td>\n",
       "      <td>1.5</td>\n",
       "      <td>0.2</td>\n",
       "      <td>Iris-setosa</td>\n",
       "      <td>14.26</td>\n",
       "      <td>1.072585</td>\n",
       "    </tr>\n",
       "    <tr>\n",
       "      <th>4</th>\n",
       "      <td>5.0</td>\n",
       "      <td>3.6</td>\n",
       "      <td>1.4</td>\n",
       "      <td>0.2</td>\n",
       "      <td>Iris-setosa</td>\n",
       "      <td>18.00</td>\n",
       "      <td>1.001079</td>\n",
       "    </tr>\n",
       "  </tbody>\n",
       "</table>\n",
       "</div>"
      ],
      "text/plain": [
       "   largo_sepalo  ancho_sepalo  largo_petalo  ancho_petalo      especie  \\\n",
       "0           5.1           3.5           1.4           0.2  Iris-setosa   \n",
       "1           4.9           3.0           1.4           0.2  Iris-setosa   \n",
       "2           4.7           3.2           1.3           0.2  Iris-setosa   \n",
       "3           4.6           3.1           1.5           0.2  Iris-setosa   \n",
       "4           5.0           3.6           1.4           0.2  Iris-setosa   \n",
       "\n",
       "   sepalo_x  nueva_característica  \n",
       "0     17.85              1.001079  \n",
       "1     14.70              1.001079  \n",
       "2     15.04              0.929573  \n",
       "3     14.26              1.072585  \n",
       "4     18.00              1.001079  "
      ]
     },
     "execution_count": 16,
     "metadata": {},
     "output_type": "execute_result"
    }
   ],
   "source": [
    "iris['nueva_característica'] = iris.largo_petalo.apply(model)\n",
    "iris.head()"
   ]
  },
  {
   "cell_type": "markdown",
   "metadata": {
    "slideshow": {
     "slide_type": "slide"
    }
   },
   "source": [
    "## Guardamos "
   ]
  },
  {
   "cell_type": "code",
   "execution_count": 17,
   "metadata": {
    "slideshow": {
     "slide_type": "slide"
    }
   },
   "outputs": [],
   "source": [
    "iris.to_excel('datos/iris_wip.xlsx')"
   ]
  },
  {
   "cell_type": "markdown",
   "metadata": {
    "slideshow": {
     "slide_type": "slide"
    }
   },
   "source": [
    "## Graficamos"
   ]
  },
  {
   "cell_type": "code",
   "execution_count": 18,
   "metadata": {
    "slideshow": {
     "slide_type": "slide"
    }
   },
   "outputs": [],
   "source": [
    "iris = pd.read_excel('datos/Iris.xls')"
   ]
  },
  {
   "cell_type": "code",
   "execution_count": 19,
   "metadata": {
    "slideshow": {
     "slide_type": "slide"
    }
   },
   "outputs": [],
   "source": [
    "iris.plot.scatter(x='largo_petalo', y='ancho_sepalo', figsize=(10,6), fontsize='15', color='C9');"
   ]
  },
  {
   "cell_type": "code",
   "execution_count": 20,
   "metadata": {
    "slideshow": {
     "slide_type": "slide"
    }
   },
   "outputs": [
    {
     "data": {
      "image/png": "[encoded data removed]",
      "text/plain": [
       "<Figure size 720x648 with 16 Axes>"
      ]
     },
     "metadata": {},
     "output_type": "display_data"
    }
   ],
   "source": [
    "from pandas.plotting import scatter_matrix\n",
    "scatter_matrix(iris, figsize=(10,9), marker='o');"
   ]
  },
  {
   "cell_type": "code",
   "execution_count": 21,
   "metadata": {
    "slideshow": {
     "slide_type": "slide"
    }
   },
   "outputs": [
    {
     "data": {
      "image/png": "[encoded data removed]",
      "text/plain": [
       "<Figure size 864x576 with 1 Axes>"
      ]
     },
     "metadata": {},
     "output_type": "display_data"
    }
   ],
   "source": [
    "iris.plot.box(figsize=(12,8), fontsize=10);"
   ]
  },
  {
   "cell_type": "markdown",
   "metadata": {
    "slideshow": {
     "slide_type": "slide"
    }
   },
   "source": [
    "## Para seguir leyendo"
   ]
  },
  {
   "cell_type": "markdown",
   "metadata": {
    "slideshow": {
     "slide_type": "slide"
    }
   },
   "source": [
    "* [Python Data Analysis with pandas](https://mubaris.com/posts/pandas/)\n",
    "* [Tutorial PyData.org](https://pandas.pydata.org/pandas-docs/stable/tutorials.html)"
   ]
  },
  {
   "cell_type": "markdown",
   "metadata": {
    "slideshow": {
     "slide_type": "slide"
    }
   },
   "source": [
    "# Estadística Bajo Python\n",
    "\n",
    "* R es un lenguaje exclusivo para hacer estadística\n",
    "* Python es de propósito general\n",
    "* Python es cada vez más popular en ciencia, incluida estadística y ciencia de datos en parte por que es mucho más flexible"
   ]
  },
  {
   "cell_type": "markdown",
   "metadata": {},
   "source": [
    "https://github.com/PyDataSanLuis/Encuentros"
   ]
  },
  {
   "cell_type": "code",
   "execution_count": 22,
   "metadata": {
    "slideshow": {
     "slide_type": "slide"
    }
   },
   "outputs": [],
   "source": [
    "import pymc3 as pm\n",
    "from scipy import stats\n",
    "import matplotlib.pyplot as plt\n",
    "import arviz as az\n",
    "az.style.use('arviz-darkgrid')"
   ]
  },
  {
   "cell_type": "code",
   "execution_count": 23,
   "metadata": {
    "slideshow": {
     "slide_type": "slide"
    }
   },
   "outputs": [
    {
     "data": {
      "text/html": [
       "<div>\n",
       "<style scoped>\n",
       "    .dataframe tbody tr th:only-of-type {\n",
       "        vertical-align: middle;\n",
       "    }\n",
       "\n",
       "    .dataframe tbody tr th {\n",
       "        vertical-align: top;\n",
       "    }\n",
       "\n",
       "    .dataframe thead th {\n",
       "        text-align: right;\n",
       "    }\n",
       "</style>\n",
       "<table border=\"1\" class=\"dataframe\">\n",
       "  <thead>\n",
       "    <tr style=\"text-align: right;\">\n",
       "      <th></th>\n",
       "      <th>grupos</th>\n",
       "      <th>valores</th>\n",
       "    </tr>\n",
       "  </thead>\n",
       "  <tbody>\n",
       "    <tr>\n",
       "      <th>0</th>\n",
       "      <td>G_0</td>\n",
       "      <td>132</td>\n",
       "    </tr>\n",
       "    <tr>\n",
       "      <th>1</th>\n",
       "      <td>G_1</td>\n",
       "      <td>150</td>\n",
       "    </tr>\n",
       "    <tr>\n",
       "      <th>2</th>\n",
       "      <td>G_1</td>\n",
       "      <td>123</td>\n",
       "    </tr>\n",
       "    <tr>\n",
       "      <th>3</th>\n",
       "      <td>G_1</td>\n",
       "      <td>129</td>\n",
       "    </tr>\n",
       "    <tr>\n",
       "      <th>4</th>\n",
       "      <td>G_0</td>\n",
       "      <td>132</td>\n",
       "    </tr>\n",
       "  </tbody>\n",
       "</table>\n",
       "</div>"
      ],
      "text/plain": [
       "  grupos  valores\n",
       "0    G_0      132\n",
       "1    G_1      150\n",
       "2    G_1      123\n",
       "3    G_1      129\n",
       "4    G_0      132"
      ]
     },
     "execution_count": 23,
     "metadata": {},
     "output_type": "execute_result"
    }
   ],
   "source": [
    "datos = pd.read_csv('datos/datos.csv')\n",
    "datos.head()"
   ]
  },
  {
   "cell_type": "code",
   "execution_count": 24,
   "metadata": {
    "slideshow": {
     "slide_type": "slide"
    }
   },
   "outputs": [
    {
     "data": {
      "image/png": "[encoded data removed]",
      "text/plain": [
       "<Figure size 720x480 with 1 Axes>"
      ]
     },
     "metadata": {},
     "output_type": "display_data"
    }
   ],
   "source": [
    "G0_valores = datos[datos.grupos == 'G_0']['valores']\n",
    "G1_valores = datos[datos.grupos == 'G_1']['valores']\n",
    "\n",
    "np.random.seed(17)\n",
    "zeros = np.random.normal(np.zeros_like(G0_valores) + 0.1, 0.01)\n",
    "ones = np.random.normal(np.zeros_like(G1_valores) + 0.4, 0.01)\n",
    "plt.plot(zeros, G0_valores, 'C0.')\n",
    "plt.plot(ones, G1_valores, 'C1.')\n",
    "plt.xlim(0, 0.5)\n",
    "plt.ylabel('valores')\n",
    "plt.xticks([0.1, 0.4], ['G_0', 'G_1']);"
   ]
  },
  {
   "cell_type": "markdown",
   "metadata": {
    "slideshow": {
     "slide_type": "slide"
    }
   },
   "source": [
    "* Tenemos dos grupos y querémos saber si _son diferentes_.\n",
    "    * Es necesario contemplar la incertidumbre contenida en los datos\n",
    "    * En general queremos extrapolar lo observado a datos/situaciones no-observadas\n",
    "    * No basta con simplemente _medir_ la diferencia. Es necesario hacer **estadística**"
   ]
  },
  {
   "cell_type": "markdown",
   "metadata": {
    "slideshow": {
     "slide_type": "slide"
    }
   },
   "source": [
    " ## ¿Es la diferencia estadísticamente significativa?  😥\n",
    " \n",
    " \n",
    "* Si asumimos que G0 y G1 se distribuyen como Gaussianas\n",
    "\n",
    "\n",
    "<img src=imagenes/t_test.png width=\"500\">\n",
    "\n",
    "* Y los valores de $\\mu_0$, $\\mu_1$, $\\sigma_0$ y $\\sigma_1$ son los observados\n",
    "\n",
    "* Podemos calcular **la probabilidad de observar los datos que observamos si $\\mu_0 = \\mu_1$**"
   ]
  },
  {
   "cell_type": "code",
   "execution_count": 25,
   "metadata": {
    "slideshow": {
     "slide_type": "slide"
    }
   },
   "outputs": [
    {
     "name": "stdout",
     "output_type": "stream",
     "text": [
      "t-test  :-0.773\n",
      "p_value : 0.445\n"
     ]
    }
   ],
   "source": [
    "a, b = stats.ttest_ind(G0_valores, G1_valores)\n",
    "\n",
    "print(f't-test  :{a:.3f}\\np_value : {b:.3f}')"
   ]
  },
  {
   "cell_type": "markdown",
   "metadata": {
    "slideshow": {
     "slide_type": "slide"
    }
   },
   "source": [
    "## Lamentablemente\n",
    "\n",
    "* El `p-value` es la respuesta a la pregunta que nadie hizo.\n",
    "\n",
    "* El `p-value` NO es la probabilidad que los grupos sean diferentes (o iguales), es la probabilidad de haber observado los datos que observé si los grupos fuesen iguales.\n",
    "\n",
    "* Aún si un resultado es estadísticamente significativo no implica que la diferencia tenga realmente importancia. La estadística no sabe un _pepino_ de cual es mi problema ni de su contexto."
   ]
  },
  {
   "cell_type": "markdown",
   "metadata": {
    "slideshow": {
     "slide_type": "slide"
    }
   },
   "source": [
    "## ¿Cúan grande es la diferencia entre grupos?  😍\n",
    "\n",
    "\n",
    "* Si asumimos que G0 y G1 se distribuyen como Gaussianas (u otra distribución que elijamos)\n",
    "\n",
    "\n",
    "<img src=imagenes/t_test.png width=\"700\">"
   ]
  },
  {
   "cell_type": "markdown",
   "metadata": {
    "slideshow": {
     "slide_type": "slide"
    }
   },
   "source": [
    "* Y los valores de $\\mu_0$, $\\mu_1$, $\\sigma_0$ y $\\sigma_1$ son desconocidos pero tiene una distribución _a priori_ (antes de ver los datos)\n",
    "\n",
    "<img src=imagenes/modelo_01.png width=\"700\">"
   ]
  },
  {
   "cell_type": "markdown",
   "metadata": {
    "slideshow": {
     "slide_type": "slide"
    }
   },
   "source": [
    "* Podemos calcular **la distribución _más plausible_ para las diferencias entre $\\mu_0 - \\mu_1$**\n",
    "\n",
    "<img src=imagenes/modelo_02.png width=\"700\">"
   ]
  },
  {
   "cell_type": "markdown",
   "metadata": {
    "slideshow": {
     "slide_type": "slide"
    }
   },
   "source": [
    "## PyMC3: Programación probabilistica bajo Python\n",
    "<br>\n",
    "\n",
    "<center><img src=\"imagenes/PyMC3_banner.svg\" width=300></center>\n",
    "\n",
    "* Modelado\n",
    "    * Una gran colleción de distribuciones de probabilidad\n",
    "    * Una sintáxis clara y simple\n",
    "    * Integración con el PyData-stack\n",
    "\n",
    "* Inferencia\n",
    "    * Métodos numéricos para resolver los modelos de forma automática"
   ]
  },
  {
   "cell_type": "code",
   "execution_count": 26,
   "metadata": {
    "slideshow": {
     "slide_type": "slide"
    }
   },
   "outputs": [
    {
     "name": "stderr",
     "output_type": "stream",
     "text": [
      "Auto-assigning NUTS sampler...\n",
      "Initializing NUTS using jitter+adapt_diag...\n",
      "Multiprocess sampling (2 chains in 2 jobs)\n",
      "NUTS: [σ_común, μ_G1, μ_G0]\n",
      "Sampling 2 chains: 100%|██████████| 5000/5000 [00:02<00:00, 1742.06draws/s]\n"
     ]
    }
   ],
   "source": [
    "μ_m = datos.valores.mean()\n",
    "σ = datos.valores.std() * 10\n",
    "\n",
    "with pm.Model() as model:\n",
    "    μ_G0 = pm.Normal('μ_G0', μ_m, σ)\n",
    "    μ_G1 = pm.Normal('μ_G1', μ_m, σ)\n",
    "    σ_común = pm.HalfNormal('σ_común', σ)\n",
    "    \n",
    "    dif_medias = pm.Deterministic('dif_medias', μ_G0 - μ_G1)\n",
    "        \n",
    "    G0_obs = pm.Normal('G0_obs', mu=μ_G0, sd=σ_común, observed=G0_valores)\n",
    "    G1_obs = pm.Normal('G1_obs', mu=μ_G1, sd=σ_común, observed=G1_valores)\n",
    "    \n",
    "    trace = pm.sample(2000)"
   ]
  },
  {
   "cell_type": "code",
   "execution_count": 27,
   "metadata": {
    "slideshow": {
     "slide_type": "slide"
    }
   },
   "outputs": [
    {
     "data": {
      "text/plain": [
       "array([-15.78160909,  11.67394302,  -3.75585997, ..., -11.14956669,\n",
       "        -4.57273495,   1.45487292])"
      ]
     },
     "execution_count": 27,
     "metadata": {},
     "output_type": "execute_result"
    }
   ],
   "source": [
    "trace['dif_medias']"
   ]
  },
  {
   "cell_type": "markdown",
   "metadata": {
    "slideshow": {
     "slide_type": "slide"
    }
   },
   "source": [
    "## ArviZ: Análisis exploratorio de modelos Bayesianos\n",
    "\n",
    "<br>\n",
    "<center><img src=\"imagenes/logo_arviz.png\" width=400></center>\n",
    "<br>\n",
    "\n",
    "* Incluye funciones numéricas y visuales que son de utilidad durante el proceso de modelado y presentación de resultados"
   ]
  },
  {
   "cell_type": "code",
   "execution_count": 28,
   "metadata": {
    "slideshow": {
     "slide_type": "slide"
    }
   },
   "outputs": [
    {
     "data": {
      "image/png": "[encoded data removed]",
      "text/plain": [
       "<Figure size 720x480 with 1 Axes>"
      ]
     },
     "metadata": {},
     "output_type": "display_data"
    }
   ],
   "source": [
    "az.plot_posterior(trace, var_names=['dif_medias']);"
   ]
  },
  {
   "cell_type": "markdown",
   "metadata": {
    "slideshow": {
     "slide_type": "slide"
    }
   },
   "source": [
    "## Para seguir leyendo\n",
    "\n",
    "* [Think Stats](http://www.greenteapress.com/thinkstats/)\n",
    "* [Statistical Rethinking](https://xcelab.net/rm/statistical-rethinking/)\n",
    "+ [Análisis Bayesiano de Datos](https://github.com/PrACiDa/EBAD)"
   ]
  }
 ],
 "metadata": {
  "celltoolbar": "Slideshow",
  "kernelspec": {
   "display_name": "Python 3",
   "language": "python",
   "name": "python3"
  },
  "language_info": {
   "codemirror_mode": {
    "name": "ipython",
    "version": 3
   },
   "file_extension": ".py",
   "mimetype": "text/x-python",
   "name": "python",
   "nbconvert_exporter": "python",
   "pygments_lexer": "ipython3",
   "version": "3.6.6"
  }
 },
 "nbformat": 4,
 "nbformat_minor": 2
}
