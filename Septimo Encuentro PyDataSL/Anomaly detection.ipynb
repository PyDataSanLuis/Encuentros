{
 "cells": [
  {
   "cell_type": "markdown",
   "metadata": {},
   "source": [
    "# <span style=\"color:purple\">  Gaussian Kernel Density Based Anomaly Detection with scikit-learn  </span>"
   ]
  },
  {
   "cell_type": "markdown",
   "metadata": {},
   "source": [
    "### Step by step...\n",
    "1. Load and process data\n",
    "2. Find a distribution to fit them\n",
    "3. Assign a density/probability for each point in said distribution\n",
    "4. Set a cutoff\n",
    "5. Declare outliers"
   ]
  },
  {
   "cell_type": "code",
   "execution_count": null,
   "metadata": {
    "collapsed": true
   },
   "outputs": [],
   "source": [
    "%matplotlib inline\n",
    "import numpy as np\n",
    "import matplotlib.pyplot as plt\n",
    "import seaborn as sns\n",
    "from scipy.io import loadmat\n",
    "plt.style.use(['seaborn-darkgrid'])"
   ]
  },
  {
   "cell_type": "markdown",
   "metadata": {},
   "source": [
    "## Unsupervised"
   ]
  },
  {
   "cell_type": "code",
   "execution_count": null,
   "metadata": {
    "collapsed": false
   },
   "outputs": [],
   "source": [
    "from sklearn.datasets import make_blobs\n",
    "X, y = make_blobs(n_features=2, centers=1, n_samples=500, random_state=666)"
   ]
  },
  {
   "cell_type": "code",
   "execution_count": null,
   "metadata": {
    "collapsed": false
   },
   "outputs": [],
   "source": [
    "X.shape"
   ]
  },
  {
   "cell_type": "code",
   "execution_count": null,
   "metadata": {
    "collapsed": false
   },
   "outputs": [],
   "source": [
    "plt.figure(figsize=(10,8))\n",
    "plt.scatter(X[:, 0], X[:, 1]);"
   ]
  },
  {
   "cell_type": "markdown",
   "metadata": {},
   "source": [
    "![title](images/kde.png)"
   ]
  },
  {
   "cell_type": "code",
   "execution_count": null,
   "metadata": {
    "collapsed": false
   },
   "outputs": [],
   "source": [
    "from sklearn.neighbors.kde import KernelDensity\n",
    "kde = KernelDensity(kernel='gaussian') \n",
    "kde.fit(X)\n",
    "kde"
   ]
  },
  {
   "cell_type": "code",
   "execution_count": null,
   "metadata": {
    "collapsed": false
   },
   "outputs": [],
   "source": [
    "#gráficamente\n",
    "plt.figure(figsize=(20,5))\n",
    "plt.subplot(1,3,1)\n",
    "sns.distplot(X[:, 0], hist=False, rug=True)\n",
    "plt.subplot(1,3,2)\n",
    "sns.distplot(X[:, 1], hist=False, rug=True)\n",
    "plt.subplot(1,3,3)\n",
    "sns.kdeplot(X[:, 0], X[:, 1], cmap='Purples_d')\n",
    "plt.scatter(X[:, 0], X[:, 1]);"
   ]
  },
  {
   "cell_type": "code",
   "execution_count": null,
   "metadata": {
    "collapsed": true
   },
   "outputs": [],
   "source": [
    "kde_X = kde.score_samples(X) # evaluate the density of the points."
   ]
  },
  {
   "cell_type": "code",
   "execution_count": null,
   "metadata": {
    "collapsed": false
   },
   "outputs": [],
   "source": [
    "X[0], kde_X[0] # punto i, densidad del punto i"
   ]
  },
  {
   "cell_type": "code",
   "execution_count": null,
   "metadata": {
    "collapsed": true
   },
   "outputs": [],
   "source": [
    "#set cutoff"
   ]
  },
  {
   "cell_type": "code",
   "execution_count": null,
   "metadata": {
    "collapsed": false
   },
   "outputs": [],
   "source": [
    "from scipy.stats.mstats import mquantiles\n",
    "a = np.array(range(1,101))\n",
    "mquantiles(a) #cuartiles, 25% de los datos"
   ]
  },
  {
   "cell_type": "code",
   "execution_count": null,
   "metadata": {
    "collapsed": false
   },
   "outputs": [],
   "source": [
    "alpha_set = 0.95 # 3-σ, box plot rule\n",
    "tau_kde = mquantiles(kde_X, 1. - alpha_set) # Computes empirical quantiles for a data array "
   ]
  },
  {
   "cell_type": "markdown",
   "metadata": {},
   "source": [
    "## Cómo decidir el punto de corte?\n",
    "![title](images/box_plot_rule.png)"
   ]
  },
  {
   "cell_type": "code",
   "execution_count": null,
   "metadata": {
    "collapsed": false
   },
   "outputs": [],
   "source": [
    "# filter\n",
    "X_points = X[kde_X>tau_kde]\n",
    "X_outliers = X[kde_X<tau_kde]"
   ]
  },
  {
   "cell_type": "code",
   "execution_count": null,
   "metadata": {
    "collapsed": false
   },
   "outputs": [],
   "source": [
    "plt.figure(figsize=(10,8))\n",
    "#sns.kdeplot(a, b)\n",
    "plt.scatter(X_points[:,0], X_points[:,1])\n",
    "plt.scatter(X_outliers[:,0], X_outliers[:,1], c='r', marker='x');"
   ]
  },
  {
   "cell_type": "markdown",
   "metadata": {},
   "source": [
    "# Supervised"
   ]
  },
  {
   "cell_type": "code",
   "execution_count": null,
   "metadata": {
    "collapsed": false
   },
   "outputs": [],
   "source": [
    "data = loadmat('data/ex8data1.mat')  \n",
    "X2 = data['X']  \n",
    "X2.shape  "
   ]
  },
  {
   "cell_type": "code",
   "execution_count": null,
   "metadata": {
    "collapsed": false
   },
   "outputs": [],
   "source": [
    "plt.figure(figsize=(8,6))\n",
    "plt.scatter(X2[:, 0], X2[:, 1]);"
   ]
  },
  {
   "cell_type": "code",
   "execution_count": null,
   "metadata": {
    "collapsed": false
   },
   "outputs": [],
   "source": [
    "# load labeled data\n",
    "Xval = data['Xval']  \n",
    "yval = data['yval']\n",
    "Xval.shape, yval.shape # data points, labels 1 anomalous, 0 normal"
   ]
  },
  {
   "cell_type": "code",
   "execution_count": null,
   "metadata": {
    "collapsed": false
   },
   "outputs": [],
   "source": [
    "# reshape labels\n",
    "yval_flat = yval.reshape((Xval.shape[0],))"
   ]
  },
  {
   "cell_type": "code",
   "execution_count": null,
   "metadata": {
    "collapsed": false
   },
   "outputs": [],
   "source": [
    "X_lo = Xval[yval_flat == 1] # labeled outliers\n",
    "Xvalt = Xval[yval_flat != 1] # data without the labeled outliers"
   ]
  },
  {
   "cell_type": "code",
   "execution_count": null,
   "metadata": {
    "collapsed": false
   },
   "outputs": [],
   "source": [
    "plt.figure(figsize=(20,5))\n",
    "plt.subplot(121)\n",
    "plt.title('Dataset Incognita')\n",
    "plt.scatter(X2[:, 0], X2[:, 1])\n",
    "plt.subplot(122)\n",
    "plt.scatter(Xvalt[:, 0], Xvalt[:, 1])\n",
    "plt.scatter(X_lo[:, 0], X_lo[:, 1], marker='s', color='r', label='labeled outliers')\n",
    "plt.legend(loc='lower right')\n",
    "plt.title('Dataset Etiquetado');"
   ]
  },
  {
   "cell_type": "code",
   "execution_count": null,
   "metadata": {
    "collapsed": false
   },
   "outputs": [],
   "source": [
    "# fit to the data X\n",
    "kde = KernelDensity(kernel='gaussian')\n",
    "kde_X = kde.fit(X2)\n",
    "kde_lo = kde.fit(Xvalt)"
   ]
  },
  {
   "cell_type": "code",
   "execution_count": null,
   "metadata": {
    "collapsed": false
   },
   "outputs": [],
   "source": [
    "# evaluate the density of the points.\n",
    "X_score = kde_X.score_samples(X2) # for the data\n",
    "lo_score = kde_lo.score_samples(Xvalt) #for the data without the labeled outliers"
   ]
  },
  {
   "cell_type": "code",
   "execution_count": null,
   "metadata": {
    "collapsed": false
   },
   "outputs": [],
   "source": [
    "# stablish minimum score\n",
    "tau_kde_lo = lo_score.min() #threshold"
   ]
  },
  {
   "cell_type": "code",
   "execution_count": null,
   "metadata": {
    "collapsed": false
   },
   "outputs": [],
   "source": [
    "# filter\n",
    "X2_points = X2[X_score>tau_kde_lo]\n",
    "X2_outliers = X2[X_score<tau_kde_lo]"
   ]
  },
  {
   "cell_type": "code",
   "execution_count": null,
   "metadata": {
    "collapsed": false,
    "scrolled": true
   },
   "outputs": [],
   "source": [
    "plt.figure(figsize=(10,8))\n",
    "plt.scatter(X2_points[:,0], X2_points[:,1])\n",
    "plt.scatter(X2_outliers[:,0], X2_outliers[:,1], c='r', marker='x');"
   ]
  },
  {
   "cell_type": "code",
   "execution_count": null,
   "metadata": {
    "collapsed": true
   },
   "outputs": [],
   "source": [
    "###Discussion###"
   ]
  },
  {
   "cell_type": "code",
   "execution_count": null,
   "metadata": {
    "collapsed": false
   },
   "outputs": [],
   "source": [
    "from sklearn.preprocessing import PolynomialFeatures\n",
    "poly = PolynomialFeatures(degree=2) # [1, a, b, a^2, ab, b^2]\n",
    "a = poly.fit_transform(Xvalt)"
   ]
  },
  {
   "cell_type": "code",
   "execution_count": null,
   "metadata": {
    "collapsed": false
   },
   "outputs": [],
   "source": [
    "b = poly.fit_transform(X_lo)"
   ]
  },
  {
   "cell_type": "code",
   "execution_count": null,
   "metadata": {
    "collapsed": false
   },
   "outputs": [],
   "source": [
    "plt.figure(figsize=(10,8))\n",
    "plt.scatter(a[:,1], a[:,3])\n",
    "plt.scatter(b[:,1], b[:,3], marker='x', c='r');"
   ]
  },
  {
   "cell_type": "markdown",
   "metadata": {
    "collapsed": true
   },
   "source": [
    "###### References:\n",
    "\n",
    "http://www.johnwittenauer.net/machine-learning-exercises-in-python-part-8/\n",
    "\n",
    "https://github.com/amueller/scipy-2017-sklearn\n",
    "\n",
    "Bishop, C. M. (2013). Pattern Recognition and Machine Learning (section: 2.5.1).\n",
    "\n",
    "Sarah Guido, Andreas Müller (2016). Introduction to Machine Learning with Python"
   ]
  },
  {
   "cell_type": "code",
   "execution_count": null,
   "metadata": {
    "collapsed": true
   },
   "outputs": [],
   "source": []
  }
 ],
 "metadata": {
  "kernelspec": {
   "display_name": "Python 3",
   "language": "python",
   "name": "python3"
  },
  "language_info": {
   "codemirror_mode": {
    "name": "ipython",
    "version": 3
   },
   "file_extension": ".py",
   "mimetype": "text/x-python",
   "name": "python",
   "nbconvert_exporter": "python",
   "pygments_lexer": "ipython3",
   "version": "3.5.4"
  }
 },
 "nbformat": 4,
 "nbformat_minor": 0
}
