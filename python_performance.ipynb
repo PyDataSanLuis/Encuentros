{
 "cells": [
  {
   "cell_type": "markdown",
   "metadata": {},
   "source": [
    "# Pequeña charla sobre el desempeño de Python\n",
    "                                                        Sergio Burdisso\n",
    "                                            (sergio.burdisso@gmail.com)"
   ]
  },
  {
   "cell_type": "markdown",
   "metadata": {},
   "source": [
    "## Todo tiene un costo...\n",
    "\n",
    "El uso de Python dentro de muchas comunidades científicas está creciendo continuamente. Esto se debe en gran medida a que Python es un lenguaje **extremadamente flexible e \"indulgente\"**, esta flexibilidad lleva a un **uso eficiente del tiempo de desarollo** de programas. El hecho de que use tipos dinámicos (e.d. es débilmente tipado) hace que Python sea **más fácil de usar que otros lenguajes como C**.\n",
    "\n",
    "Sin embargo, como se verá:\n",
    "* Todo esta flexibilidad muchas veces nos lleva a **escribir código** que, una vez en ejecución, no es tan **eficiente**.\n",
    "* La **flexibilidad de Python viene a costa de** una **pérdida en el desempeño**.\n",
    "\n",
    "Trataremos el primer ítem en la siguiente sección, en el que se darán algunos concejos a tener en cuenta al momento de escribir programas en Python. Finalmente en la sección titulada _\"¿Por qué Python es lento?\"_ se tratará el segundo ítem, en el que intentaremos comprender por qué se dice que Python \"es lento\" para así ver qué medidas se pueden tomar para mitigar el problema."
   ]
  },
  {
   "cell_type": "markdown",
   "metadata": {},
   "source": [
    "## A tener en cuenta...\n",
    "\n",
    "A continuación se daran una serie de concejos a tener en cuenta cuando se codifique en Python, muchos de ellos son genéricos y probablemente se puedan aplicar a otros lenguajes interpretados (tales como JavaScript) pero muchos otros son propios de Python.\n",
    "\n",
    "### 0) Cuando sea necesario medir los tiempos de ejecución\n",
    "\n",
    "Para medir el tiempo de ejecución se pueden usar, entre otras, las siguientes opciones:\n",
    "\n",
    "* User módulo [*cProfile*](https://docs.python.org/2/library/profile.html) para ver el tiempo de ejecución en general e individual a cada función, así como también la cantidad de veces que cada función se llamó."
   ]
  },
  {
   "cell_type": "code",
   "execution_count": 18,
   "metadata": {
    "collapsed": true
   },
   "outputs": [
    {
     "name": "stdout",
     "output_type": "stream",
     "text": [
      "         3 function calls in 0.163 seconds\n",
      "\n",
      "   Ordered by: standard name\n",
      "\n",
      "   ncalls  tottime  percall  cumtime  percall filename:lineno(function)\n",
      "        1    0.163    0.163    0.163    0.163 <ipython-input-18-85fee31f9e1d>:3(uno)\n",
      "        1    0.000    0.000    0.163    0.163 <string>:1(<module>)\n",
      "        1    0.000    0.000    0.000    0.000 {method 'disable' of '_lsprof.Profiler' objects}\n",
      "\n",
      "\n",
      "         4 function calls in 0.065 seconds\n",
      "\n",
      "   Ordered by: standard name\n",
      "\n",
      "   ncalls  tottime  percall  cumtime  percall filename:lineno(function)\n",
      "        1    0.045    0.045    0.065    0.065 <ipython-input-18-85fee31f9e1d>:9(dos)\n",
      "        1    0.000    0.000    0.065    0.065 <string>:1(<module>)\n",
      "        1    0.000    0.000    0.000    0.000 {method 'disable' of '_lsprof.Profiler' objects}\n",
      "        1    0.019    0.019    0.019    0.019 {method 'join' of 'str' objects}\n",
      "\n",
      "\n"
     ]
    }
   ],
   "source": [
    "from cProfile import run\n",
    "\n",
    "def uno():\n",
    "    w = \"\"\n",
    "    for _ in xrange(1000000):\n",
    "        w+= \"hola\"\n",
    "    return w\n",
    "\n",
    "def dos():\n",
    "    return \"\".join([\"hola\" for _ in xrange(1000000)])\n",
    "\n",
    "run(\"uno()\") #tottime 0.113 sec\n",
    "run(\"dos()\") #tottime 0.044 sec => (1 - 0.044/0.113 = 0.61) poco más de dos veces más rápido! (61%)"
   ]
  },
  {
   "cell_type": "markdown",
   "metadata": {},
   "source": [
    "* Usar módulo [timeit](https://docs.python.org/2/library/timeit.html):"
   ]
  },
  {
   "cell_type": "code",
   "execution_count": 9,
   "metadata": {
    "collapsed": true
   },
   "outputs": [
    {
     "data": {
      "text/plain": [
       "0.6078629493713379"
      ]
     },
     "execution_count": 9,
     "metadata": {},
     "output_type": "execute_result"
    }
   ],
   "source": [
    "from timeit import timeit\n",
    "timeit('\"\".join([\"hola\" for _ in xrange(1000)])', number=10000)"
   ]
  },
  {
   "cell_type": "markdown",
   "metadata": {},
   "source": [
    "* En Linux usar el comando _time_:\n",
    "<pre>\n",
    "time python script.py\n",
    "time ./script.py\n",
    "</pre>"
   ]
  },
  {
   "cell_type": "markdown",
   "metadata": {},
   "source": [
    "### 1) Evitar operadores _._ y _[ ]_ tanto como se pueda\n",
    "\n",
    "A diferencia de lenguajes compilados en los que los desplazamientos ya están calculados, en lenguajes como Python los operadores . y [] son costosos! se tiene que localizar el objeto, consultar su tipo y obtener (o calcular) el desplazamiento de el elemento a seleccionar dentro de ese objeto.\n",
    "\n",
    "**Solución:** usar variables a modo de caché para retener el valor para luego operar."
   ]
  },
  {
   "cell_type": "code",
   "execution_count": 17,
   "metadata": {
    "collapsed": true
   },
   "outputs": [
    {
     "name": "stdout",
     "output_type": "stream",
     "text": [
      "         4 function calls in 0.260 seconds\n",
      "\n",
      "   Ordered by: standard name\n",
      "\n",
      "   ncalls  tottime  percall  cumtime  percall filename:lineno(function)\n",
      "        1    0.260    0.260    0.260    0.260 <ipython-input-17-e593007b18d8>:9(uno)\n",
      "        1    0.000    0.000    0.260    0.260 <string>:1(<module>)\n",
      "        1    0.000    0.000    0.000    0.000 {len}\n",
      "        1    0.000    0.000    0.000    0.000 {method 'disable' of '_lsprof.Profiler' objects}\n",
      "\n",
      "\n",
      "         4 function calls in 0.090 seconds\n",
      "\n",
      "   Ordered by: standard name\n",
      "\n",
      "   ncalls  tottime  percall  cumtime  percall filename:lineno(function)\n",
      "        1    0.090    0.090    0.090    0.090 <ipython-input-17-e593007b18d8>:16(dos)\n",
      "        1    0.000    0.000    0.090    0.090 <string>:1(<module>)\n",
      "        1    0.000    0.000    0.000    0.000 {len}\n",
      "        1    0.000    0.000    0.000    0.000 {method 'disable' of '_lsprof.Profiler' objects}\n",
      "\n",
      "\n"
     ]
    }
   ],
   "source": [
    "class Dummy:\n",
    "    campo = {\n",
    "        \"key0\": [\"value\"]*1000000,\n",
    "        \"key1\": [\"value\"]\n",
    "    }\n",
    "\n",
    "\n",
    "def uno():\n",
    "    d = Dummy()\n",
    "    for i in xrange(len(d.campo[\"key0\"])):\n",
    "        d.campo[\"key0\"][i] = \"new value\"\n",
    "        d.campo[\"key1\"][0] = i\n",
    "#VS.\n",
    "\n",
    "def dos():\n",
    "    d = Dummy()\n",
    "    key0s = d.campo[\"key0\"]\n",
    "    key1 = d.campo[\"key1\"]\n",
    "    for i in xrange(len(key0s)):\n",
    "        key0s[i] = \"new value\"\n",
    "        key1[0] = i\n",
    "\n",
    "run(\"uno()\") #tottime 0.260 sec\n",
    "run(\"dos()\") #tottime 0.090 sec => más del doble rápido! (65.3%)"
   ]
  },
  {
   "cell_type": "markdown",
   "metadata": {},
   "source": [
    "### 2) Usar variables locales\n",
    "\n",
    "En Python el acceso a las variables no locales (e.g. globales) es más costo que al de las variables locales.\n",
    "\n",
    "**Solución:** usar variables locales, nuevamente a modo de caché, para mantener el valor de la variable no local."
   ]
  },
  {
   "cell_type": "code",
   "execution_count": 20,
   "metadata": {
    "collapsed": true
   },
   "outputs": [
    {
     "name": "stdout",
     "output_type": "stream",
     "text": [
      "         3 function calls in 0.116 seconds\n",
      "\n",
      "   Ordered by: standard name\n",
      "\n",
      "   ncalls  tottime  percall  cumtime  percall filename:lineno(function)\n",
      "        1    0.116    0.116    0.116    0.116 <ipython-input-20-575760f51201>:6(uno)\n",
      "        1    0.000    0.000    0.116    0.116 <string>:1(<module>)\n",
      "        1    0.000    0.000    0.000    0.000 {method 'disable' of '_lsprof.Profiler' objects}\n",
      "\n",
      "\n",
      "         3 function calls in 0.061 seconds\n",
      "\n",
      "   Ordered by: standard name\n",
      "\n",
      "   ncalls  tottime  percall  cumtime  percall filename:lineno(function)\n",
      "        1    0.061    0.061    0.061    0.061 <ipython-input-20-575760f51201>:13(dos)\n",
      "        1    0.000    0.000    0.061    0.061 <string>:1(<module>)\n",
      "        1    0.000    0.000    0.000    0.000 {method 'disable' of '_lsprof.Profiler' objects}\n",
      "\n",
      "\n"
     ]
    }
   ],
   "source": [
    "VALOR0 = 10\n",
    "VALOR1 = 20\n",
    "\n",
    "def uno():\n",
    "    res = 0\n",
    "    for i in xrange(1000000):\n",
    "        res += VALOR0 + VALOR1\n",
    "\n",
    "#VS.\n",
    "\n",
    "def dos():\n",
    "    res = 0\n",
    "    valor0 = VALOR0\n",
    "    valor1= VALOR1\n",
    "    for i in xrange(1000000):\n",
    "        res += valor0 + valor1\n",
    "\n",
    "run(\"uno()\") #tottime 0.116 sec\n",
    "run(\"dos()\") #tottime 0.061 sec => casi el doble rápido! (47.4%)"
   ]
  },
  {
   "cell_type": "markdown",
   "metadata": {},
   "source": [
    "### 3) Evitar recomputar valores constante\n",
    "\n",
    "Si un valor se mantendrá constante sobre alguna parte del cómputo, sobre todo en los loops, usar variable local a modo de caché para retener ese valor. "
   ]
  },
  {
   "cell_type": "code",
   "execution_count": 24,
   "metadata": {
    "collapsed": true
   },
   "outputs": [
    {
     "name": "stdout",
     "output_type": "stream",
     "text": [
      "         3 function calls in 1.322 seconds\n",
      "\n",
      "   Ordered by: standard name\n",
      "\n",
      "   ncalls  tottime  percall  cumtime  percall filename:lineno(function)\n",
      "        1    1.322    1.322    1.322    1.322 <ipython-input-24-e3897ce436a2>:3(uno)\n",
      "        1    0.000    0.000    1.322    1.322 <string>:1(<module>)\n",
      "        1    0.000    0.000    0.000    0.000 {method 'disable' of '_lsprof.Profiler' objects}\n",
      "\n",
      "\n",
      "         3 function calls in 0.702 seconds\n",
      "\n",
      "   Ordered by: standard name\n",
      "\n",
      "   ncalls  tottime  percall  cumtime  percall filename:lineno(function)\n",
      "        1    0.702    0.702    0.702    0.702 <ipython-input-24-e3897ce436a2>:11(dos)\n",
      "        1    0.000    0.000    0.702    0.702 <string>:1(<module>)\n",
      "        1    0.000    0.000    0.000    0.000 {method 'disable' of '_lsprof.Profiler' objects}\n",
      "\n",
      "\n"
     ]
    }
   ],
   "source": [
    "def uno():\n",
    "    errorNbr = 13\n",
    "    msg = \"\"\n",
    "    for i in xrange(1000000):\n",
    "        msg = \"Error %d: value was %d\"%(errorNbr, i)\n",
    "\n",
    "#VS.\n",
    "\n",
    "def dos():\n",
    "    errorNbr = 13\n",
    "    MSG =(\"Error %d: value was \" % errorNbr) + \"%d\"\n",
    "    msg = \"\"\n",
    "    for i in xrange(1000000):\n",
    "        msg = MSG % i\n",
    "\n",
    "run(\"uno()\") #tottime 1.322 sec\n",
    "run(\"dos()\") #tottime 0.702 sec => casi el doble rápido! (46.8%)"
   ]
  },
  {
   "cell_type": "markdown",
   "metadata": {},
   "source": [
    "### 4) Evitar usar loops clásicos\n",
    "\n",
    "Siempre que sea posible, evitar de el uso \"clásico\" de los iteradores como for y while y usar las variantes propias de Python como los _generadores_ y las funciones [_map_](https://docs.python.org/2/library/functions.html#map) y [_reduce_](https://docs.python.org/2/library/functions.html#reduce) ya que están construidas al rededor de C:"
   ]
  },
  {
   "cell_type": "code",
   "execution_count": 23,
   "metadata": {
    "collapsed": true
   },
   "outputs": [
    {
     "name": "stdout",
     "output_type": "stream",
     "text": [
      "         2000004 function calls in 0.672 seconds\n",
      "\n",
      "   Ordered by: standard name\n",
      "\n",
      "   ncalls  tottime  percall  cumtime  percall filename:lineno(function)\n",
      "        1    0.455    0.455    0.655    0.655 <ipython-input-23-f8eb0f6f7670>:6(uno)\n",
      "        1    0.016    0.016    0.672    0.672 <string>:1(<module>)\n",
      "        1    0.000    0.000    0.000    0.000 {len}\n",
      "  1000000    0.069    0.000    0.069    0.000 {method 'append' of 'list' objects}\n",
      "        1    0.000    0.000    0.000    0.000 {method 'disable' of '_lsprof.Profiler' objects}\n",
      "  1000000    0.132    0.000    0.132    0.000 {method 'upper' of 'str' objects}\n",
      "\n",
      "\n",
      "         1000003 function calls in 0.331 seconds\n",
      "\n",
      "   Ordered by: standard name\n",
      "\n",
      "   ncalls  tottime  percall  cumtime  percall filename:lineno(function)\n",
      "        1    0.190    0.190    0.315    0.315 <ipython-input-23-f8eb0f6f7670>:13(dos)\n",
      "        1    0.017    0.017    0.331    0.331 <string>:1(<module>)\n",
      "        1    0.000    0.000    0.000    0.000 {method 'disable' of '_lsprof.Profiler' objects}\n",
      "  1000000    0.124    0.000    0.124    0.000 {method 'upper' of 'str' objects}\n",
      "\n",
      "\n",
      "         4 function calls in 0.177 seconds\n",
      "\n",
      "   Ordered by: standard name\n",
      "\n",
      "   ncalls  tottime  percall  cumtime  percall filename:lineno(function)\n",
      "        1    0.000    0.000    0.160    0.160 <ipython-input-23-f8eb0f6f7670>:17(tres)\n",
      "        1    0.017    0.017    0.177    0.177 <string>:1(<module>)\n",
      "        1    0.160    0.160    0.160    0.160 {map}\n",
      "        1    0.000    0.000    0.000    0.000 {method 'disable' of '_lsprof.Profiler' objects}\n",
      "\n",
      "\n",
      "         2000004 function calls in 0.682 seconds\n",
      "\n",
      "   Ordered by: standard name\n",
      "\n",
      "   ncalls  tottime  percall  cumtime  percall filename:lineno(function)\n",
      "        1    0.000    0.000    0.665    0.665 <ipython-input-23-f8eb0f6f7670>:21(cuatro)\n",
      "  1000000    0.303    0.000    0.453    0.000 <ipython-input-23-f8eb0f6f7670>:22(<lambda>)\n",
      "        1    0.016    0.016    0.682    0.682 <string>:1(<module>)\n",
      "        1    0.213    0.213    0.665    0.665 {map}\n",
      "        1    0.000    0.000    0.000    0.000 {method 'disable' of '_lsprof.Profiler' objects}\n",
      "  1000000    0.150    0.000    0.150    0.000 {method 'upper' of 'str' objects}\n",
      "\n",
      "\n"
     ]
    }
   ],
   "source": [
    "# Supongamos que queremos pasar todas las palabras de\n",
    "# la siguiente lista a mayúscula\n",
    "words = [\"imasl\"] * 1000000\n",
    "\n",
    "#loop clásico\n",
    "def uno():\n",
    "    WORDS = []\n",
    "    for i in xrange(len(words)):\n",
    "        WORDS.append(words[i].upper())\n",
    "    return WORDS\n",
    "\n",
    "#usando generador\n",
    "def dos():\n",
    "    return [w.upper() for w in words]\n",
    "\n",
    "#usando map con funciones predefinidas\n",
    "def tres():\n",
    "    return map(str.upper, words)\n",
    "\n",
    "#usando map con funciones lambda\n",
    "def cuatro():\n",
    "    return map(lambda w: w.upper(), words)\n",
    "\n",
    "run(\"uno()\") # cumtime 0.655\n",
    "run(\"dos()\") # cumtime 0.315 => mejor que uno, el doble de rápido (52%)\n",
    "run(\"tres()\")# cumtime 0.160 => MEJOR, cuatro veces más rápido que uno!! (75%)\n",
    "run(\"cuatro()\")# cumtime 0.665 => noy hay una diferencia sifnificativa con respecto a uno\n",
    "\n",
    "#NOTA: \n",
    "#    * A diferencia de la primera opción (uno) en las otras tres la paralelización del loop está \"explicita\"\n",
    "#      ya que en su declaración se hace evidente que cada iteración es independiente de la otra.\n",
    "#    * map es una excelente opción siempre que podamos utilizarlo sin el uso de funciones lambda y preferentemente\n",
    "#      con funciones incorporadas (built-in) o construidas al rededor de C."
   ]
  },
  {
   "cell_type": "markdown",
   "metadata": {},
   "source": [
    "### 5) Usar componentes _lazy_\n",
    "\n",
    "Siempre que sea posible usar componentes lazy, esto es, los elementos se crearán al momentos de necesitarlos, para evitar que se ocupe mucho espacio en memoria, sobre todo cuando se trata con una gran cantidad de datos.\n",
    "* Lazy imports\n",
    "* Lazy rangos\n",
    "* Lazy listas (generadores)"
   ]
  },
  {
   "cell_type": "code",
   "execution_count": 37,
   "metadata": {
    "collapsed": true
   },
   "outputs": [
    {
     "name": "stdout",
     "output_type": "stream",
     "text": [
      "         100002 function calls in 0.142 seconds\n",
      "\n",
      "   Ordered by: standard name\n",
      "\n",
      "   ncalls  tottime  percall  cumtime  percall filename:lineno(function)\n",
      "   100000    0.101    0.000    0.101    0.000 <ipython-input-37-2a24ddbcab5d>:1(uno)\n",
      "        1    0.041    0.041    0.142    0.142 <string>:1(<module>)\n",
      "        1    0.000    0.000    0.000    0.000 {method 'disable' of '_lsprof.Profiler' objects}\n",
      "\n",
      "\n",
      "         100002 function calls in 0.037 seconds\n",
      "\n",
      "   Ordered by: standard name\n",
      "\n",
      "   ncalls  tottime  percall  cumtime  percall filename:lineno(function)\n",
      "   100000    0.013    0.000    0.013    0.000 <ipython-input-37-2a24ddbcab5d>:6(dos)\n",
      "        1    0.024    0.024    0.037    0.037 <string>:1(<module>)\n",
      "        1    0.000    0.000    0.000    0.000 {method 'disable' of '_lsprof.Profiler' objects}\n",
      "\n",
      "\n",
      "         100002 function calls in 0.063 seconds\n",
      "\n",
      "   Ordered by: standard name\n",
      "\n",
      "   ncalls  tottime  percall  cumtime  percall filename:lineno(function)\n",
      "   100000    0.027    0.000    0.027    0.000 <ipython-input-37-2a24ddbcab5d>:10(tres)\n",
      "        1    0.036    0.036    0.063    0.063 <string>:1(<module>)\n",
      "        1    0.000    0.000    0.000    0.000 {method 'disable' of '_lsprof.Profiler' objects}\n",
      "\n",
      "\n"
     ]
    }
   ],
   "source": [
    "#IMPORTS\n",
    "def uno():\n",
    "    import re\n",
    "    return re.search\n",
    "#VS\n",
    "import re\n",
    "def dos():\n",
    "    return re.search\n",
    "#VS\n",
    "re = None\n",
    "def tres():\n",
    "    global re\n",
    "    if re is None:\n",
    "        import re\n",
    "    return re.search\n",
    "\n",
    "run(\"for _ in xrange(100000): uno()\") # cumtime 0.101\n",
    "run(\"import re\\nfor _ in xrange(100000): dos()\") # cumtime 0.013 => mucho mejor, 87% más rápido\n",
    "run(\"for _ in xrange(100000): tres()\")# cumtime 0.027 => MEJOR, casi igual a dos ¡pero sin desperdiciar espacio!"
   ]
  },
  {
   "cell_type": "code",
   "execution_count": 2,
   "metadata": {
    "collapsed": false
   },
   "outputs": [],
   "source": [
    "#RANGOS\n",
    "def uno():\n",
    "    #range crea los 50000000 elementos\n",
    "    for _ in range(50000000): pass\n",
    "\n",
    "def dos():\n",
    "    #xrange crea solamete el elemento\n",
    "    #cuando se necesita, primero 0, luego 1, 2, 3... etc.\n",
    "    for _ in xrange(50000000): pass\n",
    "\n",
    "#ejecutar y ver uso de memoria"
   ]
  },
  {
   "cell_type": "code",
   "execution_count": 3,
   "metadata": {
    "collapsed": true
   },
   "outputs": [],
   "source": [
    "#LISTAS\n",
    "def uno():\n",
    "    #[ .. for in ..] crea los 50000000 elementos\n",
    "    return [n**2 for n in xrange(50000000)]\n",
    "\n",
    "def dos():\n",
    "    #( .. for in ..) crea solamete el elemento\n",
    "    #cuando se necesita, primero 0, luego 1, 4, 9... etc.\n",
    "    return (n**2 for n in xrange(50000000))\n",
    "\n",
    "#ejecutar y ver uso de memoria"
   ]
  },
  {
   "cell_type": "markdown",
   "metadata": {},
   "source": [
    "### 6) Algunos más...\n",
    "\n",
    "* Mover loops dentro de funciones si el cuerpo del loop es una función ¡las **llamadas a funciones/métodos** también son **costosas**! :)\n",
    "<pre>\n",
    "    for ...\n",
    "        func()\n",
    "    vs.\n",
    "    func():\n",
    "        for ...\n",
    "</pre>\n",
    "* Una función que pregunta por condición para ejecutar, reemplazar condición por try except (o usar decorador). Sino va a preguntar todas las veces por condición cuando en realidad es \"la excepcion y no la regla\".\n",
    "<pre>\n",
    "    inc():\n",
    "        if e is None:\n",
    "            # this chunk is executed only once\n",
    "            e = 0\n",
    "        else:\n",
    "            e += 1\n",
    "    vs.\n",
    "    inc():\n",
    "        try:\n",
    "            e += 1\n",
    "        except:\n",
    "            e = 0\n",
    "</pre>\n",
    "* Etc. :D"
   ]
  },
  {
   "cell_type": "markdown",
   "metadata": {},
   "source": [
    "## ¿Por qué Python es lento?\n",
    "\n",
    "Todos hemos escuchado alguna vez decir: *\"Python es lento\"*\n",
    "\n",
    "Esto no quiere decir necesariamente que sea lento en un sentido literal, sino más bien se debe a que, a diferencia de lenguajes como C, internamente el interprete de Python debe hacer un trabajo extra para brindar el soporte necesario para la ejecución de los programas. Puntualmente se debe a los siguientes factores:"
   ]
  },
  {
   "cell_type": "markdown",
   "metadata": {},
   "source": [
    "### 1) Python usa \"tipos dinámicos\" en lugar de \"tipos estáticos\"\n",
    "\n",
    "A diferencia de lenguajes como C, cuando un programa Python ejecuta, el interprete no sabe el tipo de cada variable definida, por lo que debe mantener suficiente información durante la ejecución del mismo como para poder identificar el tipo de cada variable y operar sobre las misma. Por lo que durante ejecución, por ejemplo, en memoria una variable cuyo valor sea 4 (tipo entero) en C y Python tendrán la siguiente forma:\n",
    "\n",
    "![img](imgs/cint_pyint_mem.png \"Estructura de entero en C y en Python\")\n",
    "\n",
    "*(Pequeño hack! a modo de prueba de concepto, cambiemos el valor del objeto \"4\" a 5, de forma tal que para Python 2+2 sea igual a 5:)*\n",
    "\n",
    "*Analizando el [código fuente](https://hg.python.org/cpython/file/2.7/) en C de la implementación de \"Python\" podemos comprender la estructura real de estos objetos. Para el caso de objetos con valores entero hay que observar los archivos [longintrepr.h](https://hg.python.org/cpython/file/2.7/Include/longintrepr.h/#l90) y [object.h](https://hg.python.org/cpython/file/2.7/Include/object.h#l96). Una vez hecho esto podemos escribir un programa python que primero averigüe el desplazamiento del campo **ob_digit** y luego cambie su contenido de 4 a 5, esto es:*\n"
   ]
  },
  {
   "cell_type": "markdown",
   "metadata": {
    "collapsed": true
   },
   "source": [
    "```python\n",
    "#**NOTA** Ejecutarlo solamente desde la terminal.\n",
    "#         NO ejecutar desde ninguna Notebook porque probablemente rompa el kernel de Jupyter.\n",
    "import ctypes\n",
    "\n",
    "address_of_4 = id(4)\n",
    "\n",
    "# adivinar el desplazaminto de ob_digit dentro de los objetos de tipo entero\n",
    "for offset in xrange(16):\n",
    "    fields = [(\"dummy\", ctypes.c_char)]*offset + [(\"ob_digit\", ctypes.c_long)]\n",
    "    class IntStruct(ctypes.Structure):\n",
    "        _fields_ = fields\n",
    "        def __repr__(self):\n",
    "            return (\"IntStruct(ob_digit={self.ob_digit})\").format(self=self)\n",
    "    if IntStruct.from_address(address_of_4).ob_digit == 4:\n",
    "        break\n",
    "\n",
    "# reemplacemos el valor de ob_digit por 5\n",
    "IntStruct.from_address(address_of_4).ob_digit = 5\n",
    "\n",
    "print 2+2\n",
    "```"
   ]
  },
  {
   "cell_type": "markdown",
   "metadata": {},
   "source": [
    "Como en Python cada valor es un objeto \"complejo\" si se tuviera, por ejemplo, el siguiente código escrito en C y Python, en ejecución se realizarían las siguientes operaciones:\n",
    "\n",
    "|  \t| C \t| Python \t|\n",
    "|--------------------------\t|---------------------------------------------------------------------------------------\t|---------------------------------------------------------------------------------------------------------------------------------------------------------------------------------------------------------------------------------------------------------------------------------------------------------------------------------------------------------------------------------------------------------------------------------------------------------\t|\n",
    "| **Código** \t| int x, y z;<br>x = 2;<br>y = 2;<br>z = x + y; \t|  x = 2<br>y = 2<br>z = x + y \t|\n",
    "| **Operaciones<br>(en ejecución)** \t| 1) asignar 2 a x<br>2) asignar 2 a y<br>3) suma binaria de x con y<br>4) asignar resultado a z \t| 1.a) asignar Entero a x->PyObject_HEAD->type<br>1.b) asignar 2 a x->digit<br>2.a) asignar Entero a y->PyObject_HEAD->type<br>2.b) asignar 2 a y->digit<br>3.a) buscar type en x->PyObject_HEAD<br>3.b) x es un entero; el valor es x->digit<br>3.c) buscar type en y->PyObject_HEAD<br>3.d) y es un entero; el valor es y->digit<br>3.e) suma binaria de x->digit con y->digit<br>4.a) asignar Entero a z->PyObject_HEAD->type<br>4.a) asignar resultado de suma a z->digit \t|\n",
    "\n",
    "*Nota: Estas operaciones abstractas son solamente ilustrativas, en la práctica se crea un objeto por cada valor en Python, y las variables apuntan/referencian a dichos objetos. Para obtener cuantas variables apuntan a dicho objeto-valor se puede usar la función [**getrefcount**](https://docs.python.org/2/library/sys.html#sys.getrefcount) del módulo [**sys**](https://docs.python.org/2/library/sys.html):*"
   ]
  },
  {
   "cell_type": "code",
   "execution_count": 12,
   "metadata": {
    "collapsed": true
   },
   "outputs": [
    {
     "name": "stdout",
     "output_type": "stream",
     "text": [
      "Referencias al valor(objeto) 2:    902\n",
      "Referencias al valor(objeto) 1024: 3\n"
     ]
    }
   ],
   "source": [
    "from sys import getrefcount\n",
    "\n",
    "print \"Referencias al valor(objeto) 2:   \", getrefcount(2)\n",
    "print \"Referencias al valor(objeto) 1024:\", getrefcount(1024)"
   ]
  },
  {
   "cell_type": "markdown",
   "metadata": {},
   "source": [
    "El uso de **tipos dinámicos** lleva a que existan **más pasos involucrados en cualquier operación** y que se tengan que usar estructuras para mantener información importante para cada objeto, como ser su tipo."
   ]
  },
  {
   "cell_type": "markdown",
   "metadata": {
    "collapsed": true
   },
   "source": [
    "### 2) Python es interpretado en lugar de compilado\n",
    "\n",
    "Arriba se mostró una diferencia entre código interpretado y compilado. Un compilador \"inteligente\" puede hacer uso de los tipos y las operaciones para producir código en lenguaje máquina eficiente y posiblemente optimizando (eliminando código repetido o innecesario)."
   ]
  },
  {
   "cell_type": "markdown",
   "metadata": {},
   "source": [
    "### 3) Python puede llevar a un uso ineficiente de la memoria\n",
    "\n",
    "El esquema valor-objeto de Python puede llevar a un uso ineficiente de la memoria (tanto en accesos como en espacio), por ejemplo, supongamos que se tiene un conjunto de valores enteros y se necesita realizar una operación sobre todos ellos, uno después de otro. Para esto se podría usar el objeto *List* mientras que en C se utilizaría un arreglo de valores enteros contiguos en memoria, lo que se ilustra en la siguiente figura:\n",
    "![img](imgs/array_vs_list.png \"Estructura de arreglo en C y List en Python\")\n",
    "\n",
    "Es fácil observar que cualquiera operación en secuencia sobre estos elementos producirá un uso más ineficiente de la memoria tanto en espacio como en accesos, por lo que algunas soluciones podrían ser:\n",
    "* [Cython](http://cython.org/) -- restringir algunas características de Python y expandir su sintaxis para poder compilarlo (e.g. declarar el tipo de las variables)\n",
    "* [Numba](http://numba.pydata.org/) -- con el uso de algunos @decoradores podremos hacer que nuestras funciones sean compiladas en tiempo de ejecución. Esto es, al momento que se llama una de estas funciones, Numba observará el tipo de cada parámetro y luego procederá a realizar la compilación de la misma. Esto se conoce como \"Compilación Justo a Tiempo\" o en Inglés Just In Time(JIT) Compilation. Va a depender de las características de cada función (qué tan \"compilable\" sea) la calidad de la JIT-compilación y por ende la mejora de rendimiento que obtendremos.\n",
    "* Usar objetos Python construidos al rededor de C como los provistos por algunos frameworks o bibliotecas especiales, como ser [NumPy](http://www.numpy.org/). Por ejemplo, la estructura de un objeto _arreglo Numpy_ sería la siguiente:\n",
    "\n",
    "![img](imgs/numpy_array.png \"Estructura de arreglo Numpy\")\n",
    "\n",
    "* Crear módulos propios en C: _**¿por qué no construir nuestros propios módulos Python en C?** creemos el modulo IMASL, el cual contendrá sólo una función llamada \"pydata\" que al ser llamada con una string y, opcionalmente un número, nos devolverá algo misterioso :D_"
   ]
  }
 ],
 "metadata": {
  "kernelspec": {
   "display_name": "Python 2",
   "language": "python",
   "name": "python2"
  },
  "language_info": {
   "codemirror_mode": {
    "name": "ipython",
    "version": 2
   },
   "file_extension": ".py",
   "mimetype": "text/x-python",
   "name": "python",
   "nbconvert_exporter": "python",
   "pygments_lexer": "ipython2",
   "version": "2.7.6"
  }
 },
 "nbformat": 4,
 "nbformat_minor": 2
}
